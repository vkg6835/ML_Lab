{
  "nbformat": 4,
  "nbformat_minor": 0,
  "metadata": {
    "colab": {
      "provenance": [],
      "authorship_tag": "ABX9TyNdxR+R2wZuSPNNFZnE6Hec",
      "include_colab_link": true
    },
    "kernelspec": {
      "name": "python3",
      "display_name": "Python 3"
    },
    "language_info": {
      "name": "python"
    }
  },
  "cells": [
    {
      "cell_type": "markdown",
      "metadata": {
        "id": "view-in-github",
        "colab_type": "text"
      },
      "source": [
        "<a href=\"https://colab.research.google.com/github/Khushkataruka/Machine-Learning-SVNIT/blob/main/ML_LAB_5_6.ipynb\" target=\"_parent\"><img src=\"https://colab.research.google.com/assets/colab-badge.svg\" alt=\"Open In Colab\"/></a>"
      ]
    },
    {
      "cell_type": "code",
      "execution_count": 147,
      "metadata": {
        "id": "yhSkAbAu1Qjj"
      },
      "outputs": [],
      "source": [
        "import numpy as np\n",
        "\n",
        "class LinearRegression:\n",
        "    def __init__(self):\n",
        "        self.w = None\n",
        "        self.b = 0\n",
        "        self.learning_rate = 1e-3\n",
        "\n",
        "    def fit(self, X_train, y_train, X_val=None, y_val=None, lr=1e-3, epochs=1000):\n",
        "        X_train = np.array(X_train)\n",
        "        y_train = np.array(y_train).reshape(-1, 1)  # Ensure shape (n_samples, 1)\n",
        "        self.learning_rate = lr\n",
        "\n",
        "        n_samples, n_features = X_train.shape\n",
        "        self.w = np.zeros((n_features, 1))\n",
        "        self.b = 0\n",
        "\n",
        "        for epoch in range(epochs):\n",
        "            y_pred = np.dot(X_train, self.w) + self.b\n",
        "\n",
        "            loss = np.mean((y_train - y_pred) ** 2)\n",
        "\n",
        "            dw = (2 / n_samples) * np.dot(X_train.T, (y_pred - y_train))\n",
        "            db = (2 / n_samples) * np.sum(y_pred - y_train)\n",
        "\n",
        "            # Update weights and bias\n",
        "            self.w -= self.learning_rate * dw\n",
        "            self.b -= self.learning_rate * db\n",
        "\n",
        "            if epoch % 100 == 0 or epoch == epochs - 1:\n",
        "                print(f\"Epoch {epoch}, Loss: {loss:.4f}\")\n",
        "\n",
        "        if X_val is not None and y_val is not None:\n",
        "            y_val_pred = self.predict(X_val, return_raw=True)\n",
        "            val_loss = np.mean((np.array(y_val).reshape(-1, 1) - y_val_pred) ** 2)\n",
        "            print(f\"\\nValidation Loss: {val_loss:.4f}\")\n",
        "\n",
        "    def predict(self, X, return_raw=False,threshhold=0.3):\n",
        "        X = np.array(X)\n",
        "        y_pred = np.dot(X, self.w) + self.b\n",
        "        y_pred=y_pred\n",
        "        if return_raw:\n",
        "            return y_pred\n",
        "        return (y_pred > threshhold).astype(int)\n"
      ]
    },
    {
      "cell_type": "code",
      "source": [
        "import kagglehub\n",
        "from kagglehub import KaggleDatasetAdapter\n",
        "import pandas as pd\n",
        "\n",
        "# Load the dataset\n",
        "file_path = \"Iris.csv\"\n",
        "df_raw = kagglehub.load_dataset(\n",
        "  KaggleDatasetAdapter.PANDAS,\n",
        "  \"uciml/iris\",\n",
        "  file_path\n",
        ")\n",
        "\n",
        "# --- CORRECTION ---\n",
        "# Drop the 'Id' column as it is not a feature for prediction.\n",
        "df = df_raw.drop('Id', axis=1)\n",
        "\n",
        "print(\"First 5 records (after dropping 'Id'):\")\n",
        "print(df.head())\n",
        "\n",
        "# Create the one-vs-rest dataframes\n",
        "df_1 = df.copy()\n",
        "df_1['Species'] = df_1['Species'].map({'Iris-setosa': 1, 'Iris-versicolor': 0, 'Iris-virginica': 0})\n",
        "\n",
        "df_2 = df.copy()\n",
        "df_2['Species'] = df_2['Species'].map({'Iris-setosa': 0, 'Iris-versicolor': 1, 'Iris-virginica': 0})\n",
        "\n",
        "df_3 = df.copy()\n",
        "df_3['Species'] = df_3['Species'].map({'Iris-setosa': 0, 'Iris-versicolor': 0, 'Iris-virginica': 1})"
      ],
      "metadata": {
        "colab": {
          "base_uri": "https://localhost:8080/"
        },
        "id": "s1ePUOI65xO3",
        "outputId": "025551d9-f780-442b-b1d3-6d8863d0d24f"
      },
      "execution_count": 148,
      "outputs": [
        {
          "output_type": "stream",
          "name": "stderr",
          "text": [
            "/tmp/ipython-input-2251450381.py:7: DeprecationWarning: Use dataset_load() instead of load_dataset(). load_dataset() will be removed in a future version.\n",
            "  df_raw = kagglehub.load_dataset(\n"
          ]
        },
        {
          "output_type": "stream",
          "name": "stdout",
          "text": [
            "Using Colab cache for faster access to the 'iris' dataset.\n",
            "First 5 records (after dropping 'Id'):\n",
            "   SepalLengthCm  SepalWidthCm  PetalLengthCm  PetalWidthCm      Species\n",
            "0            5.1           3.5            1.4           0.2  Iris-setosa\n",
            "1            4.9           3.0            1.4           0.2  Iris-setosa\n",
            "2            4.7           3.2            1.3           0.2  Iris-setosa\n",
            "3            4.6           3.1            1.5           0.2  Iris-setosa\n",
            "4            5.0           3.6            1.4           0.2  Iris-setosa\n"
          ]
        }
      ]
    },
    {
      "cell_type": "markdown",
      "source": [
        "# Split the dataset\n",
        "create a Binary Classifier to train the model on each category\n"
      ],
      "metadata": {
        "id": "o2rg6mU-6Sne"
      }
    },
    {
      "cell_type": "code",
      "source": [
        "#view distribution of each class using histogram\n",
        "import seaborn as sns\n",
        "sns.histplot(df['Species'])"
      ],
      "metadata": {
        "id": "mnm0DFVo6w9N",
        "colab": {
          "base_uri": "https://localhost:8080/",
          "height": 466
        },
        "outputId": "67192dce-3e1d-43d2-ae84-5c5134add357"
      },
      "execution_count": 149,
      "outputs": [
        {
          "output_type": "execute_result",
          "data": {
            "text/plain": [
              "<Axes: xlabel='Species', ylabel='Count'>"
            ]
          },
          "metadata": {},
          "execution_count": 149
        },
        {
          "output_type": "display_data",
          "data": {
            "text/plain": [
              "<Figure size 640x480 with 1 Axes>"
            ],
            "image/png": "[encoded data removed]"
          },
          "metadata": {}
        }
      ]
    },
    {
      "cell_type": "code",
      "source": [
        "from sklearn.model_selection import train_test_split\n",
        "from sklearn.preprocessing import StandardScaler\n",
        "\n",
        "X1 = df_1.drop('Species', axis=1)\n",
        "y1 = df_1['Species']\n",
        "X1_train, X1_test, y1_train, y1_test = train_test_split(X1, y1, test_size=0.3, random_state=42)\n",
        "X1_val, X1_test, y1_val, y1_test = train_test_split(X1_test, y1_test, test_size=0.5, random_state=42)\n",
        "\n",
        "X2 = df_2.drop('Species', axis=1)\n",
        "y2 = df_2['Species']\n",
        "X2_train, X2_test, y2_train, y2_test = train_test_split(X2, y2, test_size=0.3, random_state=42)\n",
        "X2_val, X2_test, y2_val, y2_test = train_test_split(X2_test, y2_test, test_size=0.5, random_state=42)\n",
        "\n",
        "X3 = df_3.drop('Species', axis=1)\n",
        "y3 = df_3['Species']\n",
        "X3_train, X3_test, y3_train, y3_test = train_test_split(X3, y3, test_size=0.3, random_state=42)\n",
        "X3_val, X3_test, y3_val, y3_test = train_test_split(X3_test, y3_test, test_size=0.5, random_state=42)\n",
        "\n",
        "# --- CORRECTION: Scale the features ---\n",
        "scaler = StandardScaler()\n",
        "\n",
        "# Fit on training data and transform all sets\n",
        "X1_train_scaled = scaler.fit_transform(X1_train)\n",
        "X1_val_scaled = scaler.transform(X1_val)\n",
        "X1_test_scaled = scaler.transform(X1_test)\n",
        "\n",
        "X2_train_scaled = scaler.fit_transform(X2_train)\n",
        "X2_val_scaled = scaler.transform(X2_val)\n",
        "X2_test_scaled = scaler.transform(X2_test)\n",
        "\n",
        "X3_train_scaled = scaler.fit_transform(X3_train)\n",
        "X3_val_scaled = scaler.transform(X3_val)\n",
        "X3_test_scaled = scaler.transform(X3_test)\n",
        "\n",
        "# Also create a scaled test set from the original data for final combined evaluation\n",
        "X_orig = df.drop('Species', axis=1)\n",
        "y_orig = df['Species']\n",
        "X_train_orig, X_test_orig, y_train_orig, y_test_orig = train_test_split(X_orig, y_orig, test_size=0.3, random_state=42)\n",
        "X_test_scaled = scaler.fit(X_train_orig).transform(X_test_orig) # Fit scaler on original training set"
      ],
      "metadata": {
        "id": "-Nv1unwX7eXu"
      },
      "execution_count": 150,
      "outputs": []
    },
    {
      "cell_type": "code",
      "source": [
        "# Instantiate new models\n",
        "model_1 = LinearRegression()\n",
        "model_2 = LinearRegression()\n",
        "model_3 = LinearRegression()\n",
        "\n",
        "# --- CORRECTION: Use a larger learning rate and scaled data ---\n",
        "print(\"--- Training Model 1 (for Iris-setosa) ---\")\n",
        "model_1.fit(X1_train_scaled, y1_train, X_val=X1_val_scaled, y_val=y1_val, lr=1e-2, epochs=1000)\n",
        "print(\"\\n--- Training Model 2 (for Iris-versicolor) ---\")\n",
        "model_2.fit(X2_train_scaled, y2_train, X_val=X2_val_scaled, y_val=y2_val, lr=1e-2, epochs=1000)\n",
        "print(\"\\n--- Training Model 3 (for Iris-virginica) ---\")\n",
        "model_3.fit(X3_train_scaled, y3_train, X_val=X3_val_scaled, y_val=y3_val, lr=1e-2, epochs=1000)"
      ],
      "metadata": {
        "colab": {
          "base_uri": "https://localhost:8080/"
        },
        "id": "ji3qO3Z28m_H",
        "outputId": "584b095b-d850-4260-9de8-0ca02be2364a"
      },
      "execution_count": 151,
      "outputs": [
        {
          "output_type": "stream",
          "name": "stdout",
          "text": [
            "--- Training Model 1 (for Iris-setosa) ---\n",
            "Epoch 0, Loss: 0.2952\n",
            "Epoch 100, Loss: 0.0231\n",
            "Epoch 200, Loss: 0.0208\n",
            "Epoch 300, Loss: 0.0205\n",
            "Epoch 400, Loss: 0.0203\n",
            "Epoch 500, Loss: 0.0202\n",
            "Epoch 600, Loss: 0.0201\n",
            "Epoch 700, Loss: 0.0200\n",
            "Epoch 800, Loss: 0.0199\n",
            "Epoch 900, Loss: 0.0199\n",
            "Epoch 999, Loss: 0.0198\n",
            "\n",
            "Validation Loss: 0.0226\n",
            "\n",
            "--- Training Model 2 (for Iris-versicolor) ---\n",
            "Epoch 0, Loss: 0.3524\n",
            "Epoch 100, Loss: 0.1732\n",
            "Epoch 200, Loss: 0.1685\n",
            "Epoch 300, Loss: 0.1676\n",
            "Epoch 400, Loss: 0.1670\n",
            "Epoch 500, Loss: 0.1667\n",
            "Epoch 600, Loss: 0.1665\n",
            "Epoch 700, Loss: 0.1663\n",
            "Epoch 800, Loss: 0.1662\n",
            "Epoch 900, Loss: 0.1660\n",
            "Epoch 999, Loss: 0.1659\n",
            "\n",
            "Validation Loss: 0.1176\n",
            "\n",
            "--- Training Model 3 (for Iris-virginica) ---\n",
            "Epoch 0, Loss: 0.3524\n",
            "Epoch 100, Loss: 0.0973\n",
            "Epoch 200, Loss: 0.0918\n",
            "Epoch 300, Loss: 0.0902\n",
            "Epoch 400, Loss: 0.0894\n",
            "Epoch 500, Loss: 0.0889\n",
            "Epoch 600, Loss: 0.0887\n",
            "Epoch 700, Loss: 0.0886\n",
            "Epoch 800, Loss: 0.0886\n",
            "Epoch 900, Loss: 0.0885\n",
            "Epoch 999, Loss: 0.0885\n",
            "\n",
            "Validation Loss: 0.0514\n"
          ]
        }
      ]
    },
    {
      "cell_type": "code",
      "source": [
        "y_test=model_1.predict(X1_test)\n"
      ],
      "metadata": {
        "id": "7vxlTo-0AZdu"
      },
      "execution_count": 152,
      "outputs": []
    },
    {
      "cell_type": "code",
      "source": [
        "count = 0\n",
        "for i in range(len(y_test)):\n",
        "  if y_test[i] == y1_test.iloc[i]: # Use .iloc for position-based indexing\n",
        "    count += 1\n",
        "print(count/len(y_test))"
      ],
      "metadata": {
        "colab": {
          "base_uri": "https://localhost:8080/"
        },
        "id": "y_VTwgB7A8UH",
        "outputId": "5a46299a-3b2a-41aa-a652-b6799726e5d5"
      },
      "execution_count": 153,
      "outputs": [
        {
          "output_type": "stream",
          "name": "stdout",
          "text": [
            "1.0\n"
          ]
        }
      ]
    },
    {
      "cell_type": "code",
      "source": [
        "y_test_2=model_2.predict(X2_test)\n",
        "count = 0\n",
        "for i in range(len(y_test_2)):\n",
        "  if y_test_2[i] == y2_test.iloc[i]: # Use .iloc for position-based indexing\n",
        "    count += 1\n",
        "print(count/len(y_test_2))"
      ],
      "metadata": {
        "colab": {
          "base_uri": "https://localhost:8080/"
        },
        "id": "8LS6F9GzBYrP",
        "outputId": "57f57a71-ddca-432f-aad0-cbcc85035aef"
      },
      "execution_count": 154,
      "outputs": [
        {
          "output_type": "stream",
          "name": "stdout",
          "text": [
            "0.5652173913043478\n"
          ]
        }
      ]
    },
    {
      "cell_type": "code",
      "metadata": {
        "colab": {
          "base_uri": "https://localhost:8080/"
        },
        "id": "df9c4dbc",
        "outputId": "48e08127-d8c6-480a-b69f-591100eac11a"
      },
      "source": [
        "y_test_3=model_3.predict(X3_test)\n",
        "count=0\n",
        "for i in range(len(y_test_3)):\n",
        "  if y_test_3[i] == y3_test.iloc[i]: # Use .iloc for position-based indexing\n",
        "    count += 1\n",
        "print(count/len(y_test_3))"
      ],
      "execution_count": 155,
      "outputs": [
        {
          "output_type": "stream",
          "name": "stdout",
          "text": [
            "0.30434782608695654\n"
          ]
        }
      ]
    },
    {
      "cell_type": "code",
      "source": [
        "\n",
        "def predict_species(X):\n",
        "  X = np.array(X)\n",
        "  y1_raw = model_1.predict(X, return_raw=True).flatten()\n",
        "  y2_raw = model_2.predict(X, return_raw=True).flatten()\n",
        "  y3_raw = model_3.predict(X, return_raw=True).flatten()\n",
        "  raw_predictions = np.vstack([y1_raw, y2_raw, y3_raw]).T\n",
        "  predicted_indices = np.argmax(raw_predictions, axis=1)\n",
        "  species_map = {0: 'Iris-setosa', 1: 'Iris-versicolor', 2: 'Iris-virginica'}\n",
        "  predicted_species = np.array([species_map[index] for index in predicted_indices])\n",
        "  return predicted_species\n",
        "\n",
        "# --- CORRECTION: Predict on the scaled test set ---\n",
        "y_pred_combined = predict_species(X_test_scaled)\n",
        "\n",
        "# Calculate accuracy against the original species labels\n",
        "accuracy_combined = (y_pred_combined == y_test_orig).mean()\n",
        "\n",
        "print(f\"✅ Accuracy of the corrected combined model: {accuracy_combined:.4f}\")"
      ],
      "metadata": {
        "id": "T60vQcTMDHjQ",
        "colab": {
          "base_uri": "https://localhost:8080/"
        },
        "outputId": "35269cd6-94c7-4e6d-f988-ebe46504de95"
      },
      "execution_count": 156,
      "outputs": [
        {
          "output_type": "stream",
          "name": "stdout",
          "text": [
            "✅ Accuracy of the corrected combined model: 0.8222\n"
          ]
        }
      ]
    },
    {
      "cell_type": "code",
      "source": [
        "df.head()"
      ],
      "metadata": {
        "colab": {
          "base_uri": "https://localhost:8080/",
          "height": 206
        },
        "id": "kTurQ6TYE7DQ",
        "outputId": "948be46f-d743-454a-8fa5-37f14b60da83"
      },
      "execution_count": 157,
      "outputs": [
        {
          "output_type": "execute_result",
          "data": {
            "text/plain": [
              "   SepalLengthCm  SepalWidthCm  PetalLengthCm  PetalWidthCm      Species\n",
              "0            5.1           3.5            1.4           0.2  Iris-setosa\n",
              "1            4.9           3.0            1.4           0.2  Iris-setosa\n",
              "2            4.7           3.2            1.3           0.2  Iris-setosa\n",
              "3            4.6           3.1            1.5           0.2  Iris-setosa\n",
              "4            5.0           3.6            1.4           0.2  Iris-setosa"
            ],
            "text/html": [
              "\n",
              "  <div id=\"df-f20e8e6f-9b9d-4387-bc88-e15483309d70\" class=\"colab-df-container\">\n",
              "    <div>\n",
              "<style scoped>\n",
              "    .dataframe tbody tr th:only-of-type {\n",
              "        vertical-align: middle;\n",
              "    }\n",
              "\n",
              "    .dataframe tbody tr th {\n",
              "        vertical-align: top;\n",
              "    }\n",
              "\n",
              "    .dataframe thead th {\n",
              "        text-align: right;\n",
              "    }\n",
              "</style>\n",
              "<table border=\"1\" class=\"dataframe\">\n",
              "  <thead>\n",
              "    <tr style=\"text-align: right;\">\n",
              "      <th></th>\n",
              "      <th>SepalLengthCm</th>\n",
              "      <th>SepalWidthCm</th>\n",
              "      <th>PetalLengthCm</th>\n",
              "      <th>PetalWidthCm</th>\n",
              "      <th>Species</th>\n",
              "    </tr>\n",
              "  </thead>\n",
              "  <tbody>\n",
              "    <tr>\n",
              "      <th>0</th>\n",
              "      <td>5.1</td>\n",
              "      <td>3.5</td>\n",
              "      <td>1.4</td>\n",
              "      <td>0.2</td>\n",
              "      <td>Iris-setosa</td>\n",
              "    </tr>\n",
              "    <tr>\n",
              "      <th>1</th>\n",
              "      <td>4.9</td>\n",
              "      <td>3.0</td>\n",
              "      <td>1.4</td>\n",
              "      <td>0.2</td>\n",
              "      <td>Iris-setosa</td>\n",
              "    </tr>\n",
              "    <tr>\n",
              "      <th>2</th>\n",
              "      <td>4.7</td>\n",
              "      <td>3.2</td>\n",
              "      <td>1.3</td>\n",
              "      <td>0.2</td>\n",
              "      <td>Iris-setosa</td>\n",
              "    </tr>\n",
              "    <tr>\n",
              "      <th>3</th>\n",
              "      <td>4.6</td>\n",
              "      <td>3.1</td>\n",
              "      <td>1.5</td>\n",
              "      <td>0.2</td>\n",
              "      <td>Iris-setosa</td>\n",
              "    </tr>\n",
              "    <tr>\n",
              "      <th>4</th>\n",
              "      <td>5.0</td>\n",
              "      <td>3.6</td>\n",
              "      <td>1.4</td>\n",
              "      <td>0.2</td>\n",
              "      <td>Iris-setosa</td>\n",
              "    </tr>\n",
              "  </tbody>\n",
              "</table>\n",
              "</div>\n",
              "    <div class=\"colab-df-buttons\">\n",
              "\n",
              "  <div class=\"colab-df-container\">\n",
              "    <button class=\"colab-df-convert\" onclick=\"convertToInteractive('df-f20e8e6f-9b9d-4387-bc88-e15483309d70')\"\n",
              "            title=\"Convert this dataframe to an interactive table.\"\n",
              "            style=\"display:none;\">\n",
              "\n",
              "  <svg xmlns=\"http://www.w3.org/2000/svg\" height=\"24px\" viewBox=\"0 -960 960 960\">\n",
              "    <path d=\"M120-120v-720h720v720H120Zm60-500h600v-160H180v160Zm220 220h160v-160H400v160Zm0 220h160v-160H400v160ZM180-400h160v-160H180v160Zm440 0h160v-160H620v160ZM180-180h160v-160H180v160Zm440 0h160v-160H620v160Z\"/>\n",
              "  </svg>\n",
              "    </button>\n",
              "\n",
              "  <style>\n",
              "    .colab-df-container {\n",
              "      display:flex;\n",
              "      gap: 12px;\n",
              "    }\n",
              "\n",
              "    .colab-df-convert {\n",
              "      background-color: #E8F0FE;\n",
              "      border: none;\n",
              "      border-radius: 50%;\n",
              "      cursor: pointer;\n",
              "      display: none;\n",
              "      fill: #1967D2;\n",
              "      height: 32px;\n",
              "      padding: 0 0 0 0;\n",
              "      width: 32px;\n",
              "    }\n",
              "\n",
              "    .colab-df-convert:hover {\n",
              "      background-color: #E2EBFA;\n",
              "      box-shadow: 0px 1px 2px rgba(60, 64, 67, 0.3), 0px 1px 3px 1px rgba(60, 64, 67, 0.15);\n",
              "      fill: #174EA6;\n",
              "    }\n",
              "\n",
              "    .colab-df-buttons div {\n",
              "      margin-bottom: 4px;\n",
              "    }\n",
              "\n",
              "    [theme=dark] .colab-df-convert {\n",
              "      background-color: #3B4455;\n",
              "      fill: #D2E3FC;\n",
              "    }\n",
              "\n",
              "    [theme=dark] .colab-df-convert:hover {\n",
              "      background-color: #434B5C;\n",
              "      box-shadow: 0px 1px 3px 1px rgba(0, 0, 0, 0.15);\n",
              "      filter: drop-shadow(0px 1px 2px rgba(0, 0, 0, 0.3));\n",
              "      fill: #FFFFFF;\n",
              "    }\n",
              "  </style>\n",
              "\n",
              "    <script>\n",
              "      const buttonEl =\n",
              "        document.querySelector('#df-f20e8e6f-9b9d-4387-bc88-e15483309d70 button.colab-df-convert');\n",
              "      buttonEl.style.display =\n",
              "        google.colab.kernel.accessAllowed ? 'block' : 'none';\n",
              "\n",
              "      async function convertToInteractive(key) {\n",
              "        const element = document.querySelector('#df-f20e8e6f-9b9d-4387-bc88-e15483309d70');\n",
              "        const dataTable =\n",
              "          await google.colab.kernel.invokeFunction('convertToInteractive',\n",
              "                                                    [key], {});\n",
              "        if (!dataTable) return;\n",
              "\n",
              "        const docLinkHtml = 'Like what you see? Visit the ' +\n",
              "          '<a target=\"_blank\" href=https://colab.research.google.com/notebooks/data_table.ipynb>data table notebook</a>'\n",
              "          + ' to learn more about interactive tables.';\n",
              "        element.innerHTML = '';\n",
              "        dataTable['output_type'] = 'display_data';\n",
              "        await google.colab.output.renderOutput(dataTable, element);\n",
              "        const docLink = document.createElement('div');\n",
              "        docLink.innerHTML = docLinkHtml;\n",
              "        element.appendChild(docLink);\n",
              "      }\n",
              "    </script>\n",
              "  </div>\n",
              "\n",
              "\n",
              "    <div id=\"df-8fbac352-b3af-41e8-ae93-2f225404059e\">\n",
              "      <button class=\"colab-df-quickchart\" onclick=\"quickchart('df-8fbac352-b3af-41e8-ae93-2f225404059e')\"\n",
              "                title=\"Suggest charts\"\n",
              "                style=\"display:none;\">\n",
              "\n",
              "<svg xmlns=\"http://www.w3.org/2000/svg\" height=\"24px\"viewBox=\"0 0 24 24\"\n",
              "     width=\"24px\">\n",
              "    <g>\n",
              "        <path d=\"M19 3H5c-1.1 0-2 .9-2 2v14c0 1.1.9 2 2 2h14c1.1 0 2-.9 2-2V5c0-1.1-.9-2-2-2zM9 17H7v-7h2v7zm4 0h-2V7h2v10zm4 0h-2v-4h2v4z\"/>\n",
              "    </g>\n",
              "</svg>\n",
              "      </button>\n",
              "\n",
              "<style>\n",
              "  .colab-df-quickchart {\n",
              "      --bg-color: #E8F0FE;\n",
              "      --fill-color: #1967D2;\n",
              "      --hover-bg-color: #E2EBFA;\n",
              "      --hover-fill-color: #174EA6;\n",
              "      --disabled-fill-color: #AAA;\n",
              "      --disabled-bg-color: #DDD;\n",
              "  }\n",
              "\n",
              "  [theme=dark] .colab-df-quickchart {\n",
              "      --bg-color: #3B4455;\n",
              "      --fill-color: #D2E3FC;\n",
              "      --hover-bg-color: #434B5C;\n",
              "      --hover-fill-color: #FFFFFF;\n",
              "      --disabled-bg-color: #3B4455;\n",
              "      --disabled-fill-color: #666;\n",
              "  }\n",
              "\n",
              "  .colab-df-quickchart {\n",
              "    background-color: var(--bg-color);\n",
              "    border: none;\n",
              "    border-radius: 50%;\n",
              "    cursor: pointer;\n",
              "    display: none;\n",
              "    fill: var(--fill-color);\n",
              "    height: 32px;\n",
              "    padding: 0;\n",
              "    width: 32px;\n",
              "  }\n",
              "\n",
              "  .colab-df-quickchart:hover {\n",
              "    background-color: var(--hover-bg-color);\n",
              "    box-shadow: 0 1px 2px rgba(60, 64, 67, 0.3), 0 1px 3px 1px rgba(60, 64, 67, 0.15);\n",
              "    fill: var(--button-hover-fill-color);\n",
              "  }\n",
              "\n",
              "  .colab-df-quickchart-complete:disabled,\n",
              "  .colab-df-quickchart-complete:disabled:hover {\n",
              "    background-color: var(--disabled-bg-color);\n",
              "    fill: var(--disabled-fill-color);\n",
              "    box-shadow: none;\n",
              "  }\n",
              "\n",
              "  .colab-df-spinner {\n",
              "    border: 2px solid var(--fill-color);\n",
              "    border-color: transparent;\n",
              "    border-bottom-color: var(--fill-color);\n",
              "    animation:\n",
              "      spin 1s steps(1) infinite;\n",
              "  }\n",
              "\n",
              "  @keyframes spin {\n",
              "    0% {\n",
              "      border-color: transparent;\n",
              "      border-bottom-color: var(--fill-color);\n",
              "      border-left-color: var(--fill-color);\n",
              "    }\n",
              "    20% {\n",
              "      border-color: transparent;\n",
              "      border-left-color: var(--fill-color);\n",
              "      border-top-color: var(--fill-color);\n",
              "    }\n",
              "    30% {\n",
              "      border-color: transparent;\n",
              "      border-left-color: var(--fill-color);\n",
              "      border-top-color: var(--fill-color);\n",
              "      border-right-color: var(--fill-color);\n",
              "    }\n",
              "    40% {\n",
              "      border-color: transparent;\n",
              "      border-right-color: var(--fill-color);\n",
              "      border-top-color: var(--fill-color);\n",
              "    }\n",
              "    60% {\n",
              "      border-color: transparent;\n",
              "      border-right-color: var(--fill-color);\n",
              "    }\n",
              "    80% {\n",
              "      border-color: transparent;\n",
              "      border-right-color: var(--fill-color);\n",
              "      border-bottom-color: var(--fill-color);\n",
              "    }\n",
              "    90% {\n",
              "      border-color: transparent;\n",
              "      border-bottom-color: var(--fill-color);\n",
              "    }\n",
              "  }\n",
              "</style>\n",
              "\n",
              "      <script>\n",
              "        async function quickchart(key) {\n",
              "          const quickchartButtonEl =\n",
              "            document.querySelector('#' + key + ' button');\n",
              "          quickchartButtonEl.disabled = true;  // To prevent multiple clicks.\n",
              "          quickchartButtonEl.classList.add('colab-df-spinner');\n",
              "          try {\n",
              "            const charts = await google.colab.kernel.invokeFunction(\n",
              "                'suggestCharts', [key], {});\n",
              "          } catch (error) {\n",
              "            console.error('Error during call to suggestCharts:', error);\n",
              "          }\n",
              "          quickchartButtonEl.classList.remove('colab-df-spinner');\n",
              "          quickchartButtonEl.classList.add('colab-df-quickchart-complete');\n",
              "        }\n",
              "        (() => {\n",
              "          let quickchartButtonEl =\n",
              "            document.querySelector('#df-8fbac352-b3af-41e8-ae93-2f225404059e button');\n",
              "          quickchartButtonEl.style.display =\n",
              "            google.colab.kernel.accessAllowed ? 'block' : 'none';\n",
              "        })();\n",
              "      </script>\n",
              "    </div>\n",
              "\n",
              "    </div>\n",
              "  </div>\n"
            ],
            "application/vnd.google.colaboratory.intrinsic+json": {
              "type": "dataframe",
              "variable_name": "df",
              "summary": "{\n  \"name\": \"df\",\n  \"rows\": 150,\n  \"fields\": [\n    {\n      \"column\": \"SepalLengthCm\",\n      \"properties\": {\n        \"dtype\": \"number\",\n        \"std\": 0.8280661279778629,\n        \"min\": 4.3,\n        \"max\": 7.9,\n        \"num_unique_values\": 35,\n        \"samples\": [\n          6.2,\n          4.5,\n          5.6\n        ],\n        \"semantic_type\": \"\",\n        \"description\": \"\"\n      }\n    },\n    {\n      \"column\": \"SepalWidthCm\",\n      \"properties\": {\n        \"dtype\": \"number\",\n        \"std\": 0.4335943113621737,\n        \"min\": 2.0,\n        \"max\": 4.4,\n        \"num_unique_values\": 23,\n        \"samples\": [\n          2.3,\n          4.0,\n          3.5\n        ],\n        \"semantic_type\": \"\",\n        \"description\": \"\"\n      }\n    },\n    {\n      \"column\": \"PetalLengthCm\",\n      \"properties\": {\n        \"dtype\": \"number\",\n        \"std\": 1.7644204199522617,\n        \"min\": 1.0,\n        \"max\": 6.9,\n        \"num_unique_values\": 43,\n        \"samples\": [\n          6.7,\n          3.8,\n          3.7\n        ],\n        \"semantic_type\": \"\",\n        \"description\": \"\"\n      }\n    },\n    {\n      \"column\": \"PetalWidthCm\",\n      \"properties\": {\n        \"dtype\": \"number\",\n        \"std\": 0.7631607417008414,\n        \"min\": 0.1,\n        \"max\": 2.5,\n        \"num_unique_values\": 22,\n        \"samples\": [\n          0.2,\n          1.2,\n          1.3\n        ],\n        \"semantic_type\": \"\",\n        \"description\": \"\"\n      }\n    },\n    {\n      \"column\": \"Species\",\n      \"properties\": {\n        \"dtype\": \"category\",\n        \"num_unique_values\": 3,\n        \"samples\": [\n          \"Iris-setosa\",\n          \"Iris-versicolor\",\n          \"Iris-virginica\"\n        ],\n        \"semantic_type\": \"\",\n        \"description\": \"\"\n      }\n    }\n  ]\n}"
            }
          },
          "metadata": {},
          "execution_count": 157
        }
      ]
    },
    {
      "cell_type": "markdown",
      "metadata": {
        "id": "0fa30091"
      },
      "source": [
        "**Reasoning**:\n",
        "Import the SMOTE class and apply it to the training data for each dataset with k_neighbors=1.\n",
        "\n"
      ]
    },
    {
      "cell_type": "code",
      "metadata": {
        "colab": {
          "base_uri": "https://localhost:8080/"
        },
        "id": "fbc68c11",
        "outputId": "47741b9e-e44b-4a0e-b720-8b8e396abe49"
      },
      "source": [
        "from imblearn.over_sampling import SMOTE\n",
        "\n",
        "# Instantiate SMOTE with k_neighbors=1\n",
        "smote_k1 = SMOTE(k_neighbors=1, random_state=42)\n",
        "\n",
        "# Apply SMOTE to the training data for df_1\n",
        "X1_resampled_k1, y1_resampled_k1 = smote_k1.fit_resample(X1_train, y1_train)\n",
        "\n",
        "# Apply SMOTE to the training data for df_2\n",
        "X2_resampled_k1, y2_resampled_k1 = smote_k1.fit_resample(X2_train, y2_train)\n",
        "\n",
        "# Apply SMOTE to the training data for df_3\n",
        "X3_resampled_k1, y3_resampled_k1 = smote_k1.fit_resample(X3_train, y3_train)\n",
        "\n",
        "print(\"Shape of original X1_train:\", X1_train.shape)\n",
        "print(\"Shape of resampled X1_resampled_k1:\", X1_resampled_k1.shape)\n",
        "print(\"\\nShape of original X2_train:\", X2_train.shape)\n",
        "print(\"Shape of resampled X2_resampled_k1:\", X2_resampled_k1.shape)\n",
        "print(\"\\nShape of original X3_train:\", X3_train.shape)\n",
        "print(\"Shape of resampled X3_resampled_k1:\", X3_resampled_k1.shape)"
      ],
      "execution_count": 158,
      "outputs": [
        {
          "output_type": "stream",
          "name": "stdout",
          "text": [
            "Shape of original X1_train: (105, 4)\n",
            "Shape of resampled X1_resampled_k1: (148, 4)\n",
            "\n",
            "Shape of original X2_train: (105, 4)\n",
            "Shape of resampled X2_resampled_k1: (136, 4)\n",
            "\n",
            "Shape of original X3_train: (105, 4)\n",
            "Shape of resampled X3_resampled_k1: (136, 4)\n"
          ]
        }
      ]
    },
    {
      "cell_type": "markdown",
      "metadata": {
        "id": "398e662a"
      },
      "source": [
        "## Train linear regression models (setting a)\n",
        "\n",
        "### Subtask:\n",
        "Train a `LinearRegression` model on each of the oversampled datasets created in the previous step.\n"
      ]
    },
    {
      "cell_type": "markdown",
      "metadata": {
        "id": "8192ea1e"
      },
      "source": [
        "**Reasoning**:\n",
        "Instantiate and train the LinearRegression models on the oversampled datasets with the specified parameters.\n",
        "\n"
      ]
    },
    {
      "cell_type": "code",
      "metadata": {
        "colab": {
          "base_uri": "https://localhost:8080/"
        },
        "id": "b43058e9",
        "outputId": "a42ca11d-1391-4549-89b0-526b9faf0b0e"
      },
      "source": [
        "model_1_smote_k1 = LinearRegression()\n",
        "model_2_smote_k1 = LinearRegression()\n",
        "model_3_smote_k1 = LinearRegression()\n",
        "\n",
        "model_1_smote_k1.fit(X1_resampled_k1, y1_resampled_k1, X_val=X1_val, y_val=y1_val, lr=1e-2, epochs=1000)\n",
        "model_2_smote_k1.fit(X2_resampled_k1, y2_resampled_k1, X_val=X2_val, y_val=y2_val, lr=1e-2, epochs=1000)\n",
        "model_3_smote_k1.fit(X3_resampled_k1, y3_resampled_k1, X_val=X3_val, y_val=y3_val, lr=1e-2, epochs=1000)"
      ],
      "execution_count": 159,
      "outputs": [
        {
          "output_type": "stream",
          "name": "stdout",
          "text": [
            "Epoch 0, Loss: 0.5000\n",
            "Epoch 100, Loss: 0.0174\n",
            "Epoch 200, Loss: 0.0173\n",
            "Epoch 300, Loss: 0.0172\n",
            "Epoch 400, Loss: 0.0172\n",
            "Epoch 500, Loss: 0.0171\n",
            "Epoch 600, Loss: 0.0171\n",
            "Epoch 700, Loss: 0.0170\n",
            "Epoch 800, Loss: 0.0170\n",
            "Epoch 900, Loss: 0.0170\n",
            "Epoch 999, Loss: 0.0169\n",
            "\n",
            "Validation Loss: 0.0191\n",
            "Epoch 0, Loss: 0.5000\n",
            "Epoch 100, Loss: 0.2359\n",
            "Epoch 200, Loss: 0.2283\n",
            "Epoch 300, Loss: 0.2225\n",
            "Epoch 400, Loss: 0.2181\n",
            "Epoch 500, Loss: 0.2146\n",
            "Epoch 600, Loss: 0.2118\n",
            "Epoch 700, Loss: 0.2096\n",
            "Epoch 800, Loss: 0.2078\n",
            "Epoch 900, Loss: 0.2063\n",
            "Epoch 999, Loss: 0.2050\n",
            "\n",
            "Validation Loss: 0.1477\n",
            "Epoch 0, Loss: 0.5000\n",
            "Epoch 100, Loss: 0.0982\n",
            "Epoch 200, Loss: 0.0941\n",
            "Epoch 300, Loss: 0.0914\n",
            "Epoch 400, Loss: 0.0895\n",
            "Epoch 500, Loss: 0.0882\n",
            "Epoch 600, Loss: 0.0873\n",
            "Epoch 700, Loss: 0.0866\n",
            "Epoch 800, Loss: 0.0861\n",
            "Epoch 900, Loss: 0.0857\n",
            "Epoch 999, Loss: 0.0855\n",
            "\n",
            "Validation Loss: 0.0530\n"
          ]
        }
      ]
    },
    {
      "cell_type": "markdown",
      "metadata": {
        "id": "33938578"
      },
      "source": [
        "## Evaluate performance (setting a)\n",
        "\n",
        "### Subtask:\n",
        "Evaluate the performance of each of the models trained in the previous step on their respective test sets and compare the results.\n"
      ]
    },
    {
      "cell_type": "markdown",
      "metadata": {
        "id": "4880e578"
      },
      "source": [
        "**Reasoning**:\n",
        "Evaluate the performance of the trained models on the test sets and print the accuracies.\n",
        "\n"
      ]
    },
    {
      "cell_type": "code",
      "metadata": {
        "colab": {
          "base_uri": "https://localhost:8080/"
        },
        "id": "EsAe_WprYuW_",
        "outputId": "ed598395-6a49-4dda-e644-94829e1277ba"
      },
      "source": [
        "# Get predictions on the test sets\n",
        "y1_pred_k1 = model_1_smote_k1.predict(X1_test)\n",
        "y2_pred_k1 = model_2_smote_k1.predict(X2_test)\n",
        "y3_pred_k1 = model_3_smote_k1.predict(X3_test)\n",
        "\n",
        "# Reshape predictions to be 1-dimensional\n",
        "y1_pred_k1 = y1_pred_k1.flatten()\n",
        "y2_pred_k1 = y2_pred_k1.flatten()\n",
        "y3_pred_k1 = y3_pred_k1.flatten()\n",
        "\n",
        "# Calculate accuracies\n",
        "accuracy_1_k1 = (y1_pred_k1 == y1_test).mean()\n",
        "accuracy_2_k1 = (y2_pred_k1 == y2_test).mean()\n",
        "accuracy_3_k1 = (y3_pred_k1 == y3_test).mean()\n",
        "\n",
        "# Print accuracies\n",
        "print(f\"Accuracy of model_1_smote_k1: {accuracy_1_k1:.4f}\")\n",
        "print(f\"Accuracy of model_2_smote_k1: {accuracy_2_k1:.4f}\")\n",
        "print(f\"Accuracy of model_3_smote_k1: {accuracy_3_k1:.4f}\")"
      ],
      "execution_count": 160,
      "outputs": [
        {
          "output_type": "stream",
          "name": "stdout",
          "text": [
            "Accuracy of model_1_smote_k1: 0.9565\n",
            "Accuracy of model_2_smote_k1: 0.6522\n",
            "Accuracy of model_3_smote_k1: 0.5652\n"
          ]
        }
      ]
    },
    {
      "cell_type": "code",
      "source": [
        "\n",
        "def predict_species_smote(X):\n",
        "    X = np.array(X)\n",
        "    y1_raw = model_1_smote_k1.predict(X, return_raw=True).flatten()\n",
        "    y2_raw = model_2_smote_k1.predict(X, return_raw=True).flatten()\n",
        "    y3_raw = model_3_smote_k1.predict(X, return_raw=True).flatten()\n",
        "    raw_predictions = np.vstack([y1_raw, y2_raw, y3_raw]).T\n",
        "    predicted_indices = np.argmax(raw_predictions, axis=1)\n",
        "    species_map = {0: 'Iris-setosa', 1: 'Iris-versicolor', 2: 'Iris-virginica'}\n",
        "    predicted_species = np.array([species_map[index] for index in predicted_indices])\n",
        "    return predicted_species\n",
        "y_pred_combined_smote = predict_species_smote(X_test_scaled)\n",
        "accuracy_combined_smote = (y_pred_combined_smote == y_test_orig).mean()\n",
        "\n",
        "print(f\"✅ Accuracy of the combined SMOTE model: {accuracy_combined_smote:.4f}\")"
      ],
      "metadata": {
        "colab": {
          "base_uri": "https://localhost:8080/"
        },
        "id": "d8lnrdzZlMV_",
        "outputId": "f1c1487a-d545-4dc8-dae5-211aba21b37d"
      },
      "execution_count": 161,
      "outputs": [
        {
          "output_type": "stream",
          "name": "stdout",
          "text": [
            "✅ Accuracy of the combined SMOTE model: 0.8444\n"
          ]
        }
      ]
    },
    {
      "cell_type": "code",
      "source": [
        "# Find the nearest sample for any sample and then apply the SMOTE technique.\n"
      ],
      "metadata": {
        "id": "qHN35G-G0uAX"
      },
      "execution_count": null,
      "outputs": []
    },
    {
      "cell_type": "code",
      "metadata": {
        "colab": {
          "base_uri": "https://localhost:8080/"
        },
        "id": "44bc972a",
        "outputId": "61805d01-5308-4247-e523-dd0f4526695d"
      },
      "source": [
        "from sklearn.neighbors import NearestNeighbors\n",
        "\n",
        "# Select a sample from the training data (e.g., the first sample of the resampled data)\n",
        "sample_index = 0\n",
        "sample = X1_resampled_k1.iloc[sample_index].values.reshape(1, -1)\n",
        "\n",
        "# Instantiate NearestNeighbors with k=1 to find the single nearest neighbor\n",
        "nn = NearestNeighbors(n_neighbors=2) # We look for 2 neighbors because the sample itself is the closest\n",
        "\n",
        "# Fit the model on the resampled data\n",
        "nn.fit(X1_resampled_k1)\n",
        "\n",
        "# Find the nearest neighbors for the selected sample\n",
        "distances, indices = nn.kneighbors(sample)\n",
        "\n",
        "# The nearest neighbor (excluding the sample itself) is at index 1\n",
        "nearest_neighbor_index = indices[0][1]\n",
        "nearest_neighbor = X1_resampled_k1.iloc[nearest_neighbor_index]\n",
        "\n",
        "print(f\"Original sample (index {sample_index}):\\n{sample.flatten()}\")\n",
        "print(f\"\\nNearest neighbor (index {nearest_neighbor_index}):\\n{nearest_neighbor.values}\")"
      ],
      "execution_count": 174,
      "outputs": [
        {
          "output_type": "stream",
          "name": "stdout",
          "text": [
            "Original sample (index 0):\n",
            "[5.5 2.4 3.7 1. ]\n",
            "\n",
            "Nearest neighbor (index 38):\n",
            "[5.5 2.4 3.8 1.1]\n"
          ]
        },
        {
          "output_type": "stream",
          "name": "stderr",
          "text": [
            "/usr/local/lib/python3.12/dist-packages/sklearn/utils/validation.py:2739: UserWarning: X does not have valid feature names, but NearestNeighbors was fitted with feature names\n",
            "  warnings.warn(\n"
          ]
        }
      ]
    },
    {
      "cell_type": "markdown",
      "source": [
        "# Assignment 6\n"
      ],
      "metadata": {
        "id": "7yecWXuj-7hq"
      }
    },
    {
      "cell_type": "markdown",
      "source": [
        "# 1. Take the Iris dataset that you used in the Assignment 5. Implement Macro, Micro,\n",
        "Weighted F1-scores on this dataset based on the models developed in Assignment 5.\n",
        "# 2. Take different thresholds (take thresholds starting from 0 to 1) on the predictions you got\n",
        "from the models that you developed for Assignment 5 and create an ROC curve for it.\n",
        "Find the Area Under Curve (AUC) for the ROC curve.\n",
        "# 3. Using the normal equations, find the target values for the linear regression model on the\n",
        "Iris dataset. Compute the Mean Absolute Error (MAE), Mean Squared Error (MSE), and\n",
        "the R\n",
        "2 error."
      ],
      "metadata": {
        "id": "DLmPkZdB8aHY"
      }
    },
    {
      "cell_type": "code",
      "source": [
        "#weighted f1 score"
      ],
      "metadata": {
        "id": "jiXZOfr6-_NB"
      },
      "execution_count": 162,
      "outputs": []
    },
    {
      "cell_type": "code",
      "metadata": {
        "id": "4e74267a"
      },
      "source": [
        "from collections import Counter\n",
        "\n",
        "def precision_recall_f1_per_class(y_true, y_pred, class_label):\n",
        "    tp = sum((yt == class_label and yp == class_label) for yt, yp in zip(y_true, y_pred))\n",
        "    fp = sum((yt != class_label and yp == class_label) for yt, yp in zip(y_true, y_pred))\n",
        "    fn = sum((yt == class_label and yp != class_label) for yt, yp in zip(y_true, y_pred))\n",
        "\n",
        "    precision = tp / (tp + fp) if (tp + fp) else 0.0\n",
        "    recall = tp / (tp + fn) if (tp + fn) else 0.0\n",
        "    f1 = 2 * precision * recall / (precision + recall) if (precision + recall) else 0.0\n",
        "\n",
        "    return precision, recall, f1\n",
        "\n",
        "def weighted_f1_score(y_true, y_pred):\n",
        "    classes = sorted(set(y_true) | set(y_pred))  # all unique flower names\n",
        "    support = Counter(y_true)\n",
        "    total_support = sum(support.values())\n",
        "\n",
        "    weighted_f1 = 0.0\n",
        "\n",
        "    for cls in classes:\n",
        "        _, _, f1 = precision_recall_f1_per_class(y_true, y_pred, cls)\n",
        "        cls_support = support[cls]\n",
        "        weighted_f1 += f1 * (cls_support / total_support)\n",
        "\n",
        "    return weighted_f1\n"
      ],
      "execution_count": 163,
      "outputs": []
    },
    {
      "cell_type": "code",
      "source": [
        "weighted_f1=weighted_f1_score(y_test_orig,y_pred_combined_smote)\n",
        "weighted_f1"
      ],
      "metadata": {
        "colab": {
          "base_uri": "https://localhost:8080/"
        },
        "id": "OAmo53PqCYlC",
        "outputId": "874ee1c2-db2f-4884-9018-4e2f75e19db5"
      },
      "execution_count": 164,
      "outputs": [
        {
          "output_type": "execute_result",
          "data": {
            "text/plain": [
              "0.8403740193395366"
            ]
          },
          "metadata": {},
          "execution_count": 164
        }
      ]
    },
    {
      "cell_type": "code",
      "source": [
        "import numpy as np\n",
        "import matplotlib.pyplot as plt\n",
        "\n",
        "# This helper function was already correct and is used by the new function.\n",
        "def get_tpr_fpr(y_true, y_pred):\n",
        "    # True positives: true is 1, pred is 1\n",
        "    tp = sum((yt == 1 and yp == 1) for yt, yp in zip(y_true, y_pred))\n",
        "    # False positives: true is 0, pred is 1\n",
        "    fp = sum((yt == 0 and yp == 1) for yt, yp in zip(y_true, y_pred))\n",
        "    # False negatives: true is 1, pred is 0\n",
        "    fn = sum((yt == 1 and yp == 0) for yt, yp in zip(y_true, y_pred))\n",
        "    # True negatives: true is 0, pred is 0\n",
        "    tn = sum((yt == 0 and yp == 0) for yt, yp in zip(y_true, y_pred))\n",
        "\n",
        "    tpr = tp / (tp + fn) if (tp + fn) else 0.0\n",
        "    fpr = fp / (fp + tn) if (fp + tn) else 0.0\n",
        "\n",
        "    return tpr, fpr\n",
        "\n",
        "# --- CORRECTED FUNCTION ---\n",
        "# This function replaces the flawed predict_species_threshhold and get_avg_tpr_fpr\n",
        "def generate_roc_points(model, X_test, y_true):\n",
        "    \"\"\"\n",
        "    Generates the points for an ROC curve for a single binary classifier.\n",
        "    \"\"\"\n",
        "    y_scores = model.predict(X_test, return_raw=True).flatten()\n",
        "\n",
        "    # Recommended: Use the model's unique scores as the thresholds for precision.\n",
        "    # Fix: Pass a list to sorted()\n",
        "    thresholds = np.arange(1, 0, -0.01)\n",
        "\n",
        "    tpr_list = [0.0]\n",
        "    fpr_list = [0.0]\n",
        "\n",
        "    for thresh in thresholds:\n",
        "        y_pred_binary = (y_scores >= thresh).astype(int)\n",
        "        tpr, fpr = get_tpr_fpr(y_true, y_pred_binary)\n",
        "        tpr_list.append(tpr)\n",
        "        fpr_list.append(fpr)\n",
        "\n",
        "    # Add the final point to ensure the curve goes to (1,1)\n",
        "    tpr_list.append(1.0)\n",
        "    fpr_list.append(1.0)\n",
        "\n",
        "    return fpr_list, tpr_list"
      ],
      "metadata": {
        "id": "rtX0TIiQCleI"
      },
      "execution_count": 170,
      "outputs": []
    },
    {
      "cell_type": "code",
      "source": [
        "import matplotlib.pyplot as plt\n",
        "import numpy as np\n",
        "\n",
        "# --- 1. Generate ROC points and calculate AUC for each model ---\n",
        "# (This part is from your code and is correct)\n",
        "fprs1, tprs1 = generate_roc_points(model_1_smote_k1, X1_test_scaled, y1_test)\n",
        "fprs2, tprs2 = generate_roc_points(model_2_smote_k1, X2_test_scaled, y2_test)\n",
        "fprs3, tprs3 = generate_roc_points(model_3_smote_k1, X3_test_scaled, y3_test)\n",
        "\n",
        "auc_score_1 = np.trapz(tprs1, fprs1)\n",
        "auc_score_2 = np.trapz(tprs2, fprs2)\n",
        "auc_score_3 = np.trapz(tprs3, fprs3)\n",
        "\n",
        "# --- 2. Plot all three curves in a single figure ---\n",
        "plt.figure(figsize=(10, 8))\n",
        "\n",
        "# Plot Setosa ROC Curve\n",
        "plt.plot(fprs1, tprs1, color='aqua', lw=2,\n",
        "         label=f'ROC Curve for Setosa (AUC = {auc_score_1:.2f})')\n",
        "\n",
        "# Plot Versicolor ROC Curve\n",
        "plt.plot(fprs2, tprs2, color='darkorange', lw=2,\n",
        "         label=f'ROC Curve for Versicolor (AUC = {auc_score_2:.2f})')\n",
        "\n",
        "# Plot Virginica ROC Curve\n",
        "plt.plot(fprs3, tprs3, color='cornflowerblue', lw=2,\n",
        "         label=f'ROC Curve for Virginica (AUC = {auc_score_3:.2f})')\n",
        "\n",
        "# Plot the random chance line\n",
        "plt.plot([0, 1], [0, 1], 'k--', lw=2, label='Random Chance')\n",
        "\n",
        "# Final plot settings\n",
        "plt.xlabel('False Positive Rate')\n",
        "plt.ylabel('True Positive Rate')\n",
        "plt.title('One-vs-Rest ROC Curves for each Iris Class')\n",
        "plt.legend(loc=\"lower right\")\n",
        "plt.grid(True)\n",
        "plt.show()"
      ],
      "metadata": {
        "id": "j2qDU2VUIM8i",
        "colab": {
          "base_uri": "https://localhost:8080/",
          "height": 822
        },
        "outputId": "c5930c24-137a-4699-db06-8925388f6425"
      },
      "execution_count": 171,
      "outputs": [
        {
          "output_type": "stream",
          "name": "stderr",
          "text": [
            "/tmp/ipython-input-2489282885.py:10: DeprecationWarning: `trapz` is deprecated. Use `trapezoid` instead, or one of the numerical integration functions in `scipy.integrate`.\n",
            "  auc_score_1 = np.trapz(tprs1, fprs1)\n",
            "/tmp/ipython-input-2489282885.py:11: DeprecationWarning: `trapz` is deprecated. Use `trapezoid` instead, or one of the numerical integration functions in `scipy.integrate`.\n",
            "  auc_score_2 = np.trapz(tprs2, fprs2)\n",
            "/tmp/ipython-input-2489282885.py:12: DeprecationWarning: `trapz` is deprecated. Use `trapezoid` instead, or one of the numerical integration functions in `scipy.integrate`.\n",
            "  auc_score_3 = np.trapz(tprs3, fprs3)\n"
          ]
        },
        {
          "output_type": "display_data",
          "data": {
            "text/plain": [
              "<Figure size 1000x800 with 1 Axes>"
            ],
            "image/png": "[encoded data removed]"
          },
          "metadata": {}
        }
      ]
    },
    {
      "cell_type": "code",
      "source": [],
      "metadata": {
        "id": "tVX_33-QPCYi"
      },
      "execution_count": null,
      "outputs": []
    },
    {
      "cell_type": "code",
      "metadata": {
        "colab": {
          "base_uri": "https://localhost:8080/"
        },
        "id": "be6d9cc1",
        "outputId": "dbab0f83-4d18-49ff-b737-5601911b695a"
      },
      "source": [
        "# Using the normal equations\n",
        "# Add a column of ones to X_train for the intercept term\n",
        "X_train_norm_eq = np.insert(X_train_orig.values, 0, 1, axis=1)\n",
        "y_train_norm_eq = y_train_orig.map({'Iris-setosa': 0, 'Iris-versicolor': 1, 'Iris-virginica': 2}).values # Map species to numerical values\n",
        "\n",
        "# Calculate weights using the normal equation: w = (X^T * X)^(-1) * X^T * y\n",
        "weights = np.linalg.inv(X_train_norm_eq.T @ X_train_norm_eq) @ X_train_norm_eq.T @ y_train_norm_eq\n",
        "\n",
        "# Add a column of ones to X_test for the intercept term\n",
        "X_test_norm_eq = np.insert(X_test_orig.values, 0, 1, axis=1)\n",
        "y_test_norm_eq = y_test_orig.map({'Iris-setosa': 0, 'Iris-versicolor': 1, 'Iris-virginica': 2}).values # Map species to numerical values\n",
        "\n",
        "# Predict on the test set\n",
        "y_pred_norm_eq = X_test_norm_eq @ weights\n",
        "\n",
        "print(\"Predictions using Normal Equations:\")\n",
        "print(y_pred_norm_eq)"
      ],
      "execution_count": 172,
      "outputs": [
        {
          "output_type": "stream",
          "name": "stdout",
          "text": [
            "Predictions using Normal Equations:\n",
            "[ 1.24042717 -0.0470517   2.24766081  1.35145613  1.29992031  0.01086695\n",
            "  1.05103684  1.82711171  1.37586787  1.06856218  1.70290027 -0.08634371\n",
            " -0.16475544 -0.07704022 -0.03686594  1.39985227  2.00557698  1.04920521\n",
            "  1.28290593  1.97653781  0.01671723  1.59884289  0.07879941  1.92338041\n",
            "  1.85868954  1.88064781  1.8044231   2.04070546  0.01997108  0.01275306\n",
            " -0.15594483 -0.0851098   1.18613366 -0.00665099 -0.03059728  1.68967969\n",
            "  1.29032331 -0.08105147 -0.09285881 -0.17301698  1.75510831  1.37227344\n",
            "  1.31790215 -0.07388053 -0.11485189]\n"
          ]
        }
      ]
    },
    {
      "cell_type": "code",
      "metadata": {
        "colab": {
          "base_uri": "https://localhost:8080/"
        },
        "id": "76c6ec45",
        "outputId": "79eb45a6-aabc-4d99-dce4-27caac05eec7"
      },
      "source": [
        "from sklearn.metrics import mean_absolute_error, mean_squared_error, r2_score\n",
        "\n",
        "# Compute MAE\n",
        "mae = mean_absolute_error(y_test_norm_eq, y_pred_norm_eq)\n",
        "print(f\"Mean Absolute Error (MAE): {mae:.4f}\")\n",
        "\n",
        "# Compute MSE\n",
        "mse = mean_squared_error(y_test_norm_eq, y_pred_norm_eq)\n",
        "print(f\"Mean Squared Error (MSE): {mse:.4f}\")\n",
        "\n",
        "# Compute R-squared\n",
        "r2 = r2_score(y_test_norm_eq, y_pred_norm_eq)\n",
        "print(f\"R-squared (R2): {r2:.4f}\")"
      ],
      "execution_count": 173,
      "outputs": [
        {
          "output_type": "stream",
          "name": "stdout",
          "text": [
            "Mean Absolute Error (MAE): 0.1539\n",
            "Mean Squared Error (MSE): 0.0388\n",
            "R-squared (R2): 0.9440\n"
          ]
        }
      ]
    }
  ]
}