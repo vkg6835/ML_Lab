{
  "cells": [
    {
      "cell_type": "markdown",
      "metadata": {
        "colab_type": "text",
        "id": "view-in-github"
      },
      "source": [
        "<a href=\"https://colab.research.google.com/github/Khushkataruka/Machine-Learning-SVNIT/blob/main/ML_LAB_5.ipynb\" target=\"_parent\"><img src=\"https://colab.research.google.com/assets/colab-badge.svg\" alt=\"Open In Colab\"/></a>"
      ]
    },
    {
      "cell_type": "code",
      "execution_count": null,
      "metadata": {
        "id": "yhSkAbAu1Qjj"
      },
      "outputs": [],
      "source": [
        "import numpy as np\n",
        "\n",
        "class LinearRegression:\n",
        "    def __init__(self):\n",
        "        self.w = None\n",
        "        self.b = 0\n",
        "        self.learning_rate = 1e-3\n",
        "\n",
        "    def fit(self, X_train, y_train, X_val=None, y_val=None, lr=1e-3, epochs=1000):\n",
        "        X_train = np.array(X_train)\n",
        "        y_train = np.array(y_train).reshape(-1, 1)  # Ensure shape (n_samples, 1)\n",
        "        self.learning_rate = lr\n",
        "\n",
        "        n_samples, n_features = X_train.shape\n",
        "        self.w = np.zeros((n_features, 1))\n",
        "        self.b = 0\n",
        "\n",
        "        for epoch in range(epochs):\n",
        "            y_pred = np.dot(X_train, self.w) + self.b\n",
        "\n",
        "            loss = np.mean((y_train - y_pred) ** 2)\n",
        "\n",
        "            dw = (2 / n_samples) * np.dot(X_train.T, (y_pred - y_train))\n",
        "            db = (2 / n_samples) * np.sum(y_pred - y_train)\n",
        "\n",
        "            # Update weights and bias\n",
        "            self.w -= self.learning_rate * dw\n",
        "            self.b -= self.learning_rate * db\n",
        "\n",
        "            if epoch % 100 == 0 or epoch == epochs - 1:\n",
        "                print(f\"Epoch {epoch}, Loss: {loss:.4f}\")\n",
        "\n",
        "        if X_val is not None and y_val is not None:\n",
        "            y_val_pred = self.predict(X_val, return_raw=True)\n",
        "            val_loss = np.mean((np.array(y_val).reshape(-1, 1) - y_val_pred) ** 2)\n",
        "            print(f\"\\nValidation Loss: {val_loss:.4f}\")\n",
        "\n",
        "    def predict(self, X, return_raw=False):\n",
        "        X = np.array(X)\n",
        "        y_pred = np.dot(X, self.w) + self.b\n",
        "        y_pred=y_pred*10\n",
        "        if return_raw:\n",
        "            return y_pred\n",
        "        return (y_pred > 0.5).astype(int)\n"
      ]
    },
    {
      "cell_type": "code",
      "execution_count": null,
      "metadata": {
        "colab": {
          "base_uri": "https://localhost:8080/"
        },
        "id": "s1ePUOI65xO3",
        "outputId": "1ec8b1ef-c0c4-4027-c679-13fe86f95171"
      },
      "outputs": [
        {
          "name": "stderr",
          "output_type": "stream",
          "text": [
            "/tmp/ipython-input-175007604.py:8: DeprecationWarning: load_dataset is deprecated and will be removed in a future version.\n",
            "  df = kagglehub.load_dataset(\n"
          ]
        },
        {
          "name": "stdout",
          "output_type": "stream",
          "text": [
            "First 5 records:    Id  SepalLengthCm  SepalWidthCm  PetalLengthCm  PetalWidthCm      Species\n",
            "0   1            5.1           3.5            1.4           0.2  Iris-setosa\n",
            "1   2            4.9           3.0            1.4           0.2  Iris-setosa\n",
            "2   3            4.7           3.2            1.3           0.2  Iris-setosa\n",
            "3   4            4.6           3.1            1.5           0.2  Iris-setosa\n",
            "4   5            5.0           3.6            1.4           0.2  Iris-setosa\n"
          ]
        }
      ],
      "source": [
        "import kagglehub\n",
        "from kagglehub import KaggleDatasetAdapter\n",
        "\n",
        "\n",
        "file_path = \"Iris.csv\"\n",
        "\n",
        "\n",
        "df = kagglehub.load_dataset(\n",
        "  KaggleDatasetAdapter.PANDAS,\n",
        "  \"uciml/iris\",\n",
        "  file_path\n",
        ")\n",
        "\n",
        "print(\"First 5 records:\", df.head())"
      ]
    },
    {
      "cell_type": "markdown",
      "metadata": {
        "id": "o2rg6mU-6Sne"
      },
      "source": [
        "# Split the dataset\n",
        "create a Binary Classifier to train the model on each category\n"
      ]
    },
    {
      "cell_type": "code",
      "execution_count": null,
      "metadata": {
        "id": "OaBrkxYB6iZN"
      },
      "outputs": [],
      "source": [
        "df_1=df.copy()\n",
        "df_1['Species']=df_1['Species'].map({'Iris-setosa':1,'Iris-versicolor':0,'Iris-virginica':0})\n",
        "\n",
        "df_2=df.copy()\n",
        "df_2['Species']=df_2['Species'].map({'Iris-setosa':0,'Iris-versicolor':1,'Iris-virginica':0})\n",
        "\n",
        "df_3=df.copy()\n",
        "df_3['Species']=df_3['Species'].map({'Iris-setosa':0,'Iris-versicolor':0,'Iris-virginica':1})"
      ]
    },
    {
      "cell_type": "code",
      "execution_count": 16,
      "metadata": {
        "colab": {
          "base_uri": "https://localhost:8080/",
          "height": 466
        },
        "id": "mnm0DFVo6w9N",
        "outputId": "b3aaffff-5237-4350-a2d5-8860faa25951"
      },
      "outputs": [
        {
          "data": {
            "text/plain": [
              "<Axes: xlabel='Species', ylabel='Count'>"
            ]
          },
          "execution_count": 16,
          "metadata": {},
          "output_type": "execute_result"
        },
        {
          "data": {
            "image/png": "[encoded data removed]",
            "text/plain": [
              "<Figure size 640x480 with 1 Axes>"
            ]
          },
          "metadata": {},
          "output_type": "display_data"
        }
      ],
      "source": [
        "#view distribution of each class using histogram\n",
        "import seaborn as sns\n",
        "sns.histplot(df['Species'])"
      ]
    },
    {
      "cell_type": "code",
      "execution_count": null,
      "metadata": {
        "id": "-Nv1unwX7eXu"
      },
      "outputs": [],
      "source": [
        "#splitting in train test and\n",
        "\n",
        "from sklearn.model_selection import train_test_split\n",
        "\n",
        "X1_train, X1_test, y1_train, y1_test = train_test_split(df_1.drop('Species', axis=1), df_1['Species'], test_size=0.3, random_state=42)\n",
        "X1_val, X1_test, y1_val, y1_test = train_test_split(X1_test, y1_test, test_size=0.5, random_state=42)\n",
        "\n",
        "X2_train, X2_test, y2_train, y2_test = train_test_split(df_2.drop('Species', axis=1), df_2['Species'], test_size=0.3, random_state=42)\n",
        "X2_val,X2_test, y2_val, y2_test = train_test_split(X2_test, y2_test, test_size=0.5, random_state=42)\n",
        "\n",
        "X3_train, X3_test, y3_train, y3_test = train_test_split(df_3.drop('Species', axis=1), df_3['Species'], test_size=0.3, random_state=42)\n",
        "X3_val,X3_test, y3_val, y3_test = train_test_split(X3_test, y3_test, test_size=0.5, random_state=42)"
      ]
    },
    {
      "cell_type": "code",
      "execution_count": null,
      "metadata": {
        "colab": {
          "base_uri": "https://localhost:8080/"
        },
        "id": "ji3qO3Z28m_H",
        "outputId": "b6b9ba8d-5d18-4341-8ff7-552bfbaaef58"
      },
      "outputs": [
        {
          "name": "stdout",
          "output_type": "stream",
          "text": [
            "Epoch 0, Loss: 0.2952\n",
            "Epoch 100, Loss: 0.2930\n",
            "Epoch 200, Loss: 0.2914\n",
            "Epoch 300, Loss: 0.2902\n",
            "Epoch 400, Loss: 0.2893\n",
            "Epoch 500, Loss: 0.2886\n",
            "Epoch 600, Loss: 0.2881\n",
            "Epoch 700, Loss: 0.2877\n",
            "Epoch 800, Loss: 0.2874\n",
            "Epoch 900, Loss: 0.2872\n",
            "Epoch 999, Loss: 0.2870\n",
            "\n",
            "Validation Loss: 0.6972\n"
          ]
        }
      ],
      "source": [
        "model_1 = LinearRegression()\n",
        "model_2 = LinearRegression()\n",
        "model_3 = LinearRegression()\n",
        "\n",
        "# Then fit the models\n",
        "model_1.fit(X1_train, y1_train,X_val=X1_val,y_val=y1_val,lr=1e-7,epochs=1000)\n",
        "\n",
        "\n"
      ]
    },
    {
      "cell_type": "code",
      "execution_count": null,
      "metadata": {
        "colab": {
          "base_uri": "https://localhost:8080/"
        },
        "id": "EC1xLGqN823O",
        "outputId": "a04cc06c-b2ee-43a5-e10d-1f91bd26ba44"
      },
      "outputs": [
        {
          "name": "stdout",
          "output_type": "stream",
          "text": [
            "Epoch 0, Loss: 0.3524\n",
            "Epoch 100, Loss: 0.3268\n",
            "Epoch 200, Loss: 0.3082\n",
            "Epoch 300, Loss: 0.2948\n",
            "Epoch 400, Loss: 0.2850\n",
            "Epoch 500, Loss: 0.2779\n",
            "Epoch 600, Loss: 0.2727\n",
            "Epoch 700, Loss: 0.2690\n",
            "Epoch 800, Loss: 0.2662\n",
            "Epoch 900, Loss: 0.2643\n",
            "Epoch 999, Loss: 0.2628\n",
            "\n",
            "Validation Loss: 3.7902\n"
          ]
        }
      ],
      "source": [
        "model_2.fit(X2_train, y2_train,X_val=X2_val,y_val=y2_val,lr=1e-7,epochs=1000)"
      ]
    },
    {
      "cell_type": "code",
      "execution_count": null,
      "metadata": {
        "colab": {
          "base_uri": "https://localhost:8080/"
        },
        "id": "7vUyfX1c88aX",
        "outputId": "9e61a61e-6aa3-46af-ee73-76527a7110c8"
      },
      "outputs": [
        {
          "name": "stdout",
          "output_type": "stream",
          "text": [
            "Epoch 0, Loss: 0.3524\n",
            "Epoch 100, Loss: 0.2866\n",
            "Epoch 200, Loss: 0.2389\n",
            "Epoch 300, Loss: 0.2043\n",
            "Epoch 400, Loss: 0.1791\n",
            "Epoch 500, Loss: 0.1609\n",
            "Epoch 600, Loss: 0.1476\n",
            "Epoch 700, Loss: 0.1380\n",
            "Epoch 800, Loss: 0.1310\n",
            "Epoch 900, Loss: 0.1259\n",
            "Epoch 999, Loss: 0.1223\n",
            "\n",
            "Validation Loss: 7.7606\n"
          ]
        }
      ],
      "source": [
        "model_3.fit(X3_train, y3_train,X_val=X3_val,y_val=y3_val,lr=1e-7,epochs=1000)"
      ]
    },
    {
      "cell_type": "code",
      "execution_count": null,
      "metadata": {
        "id": "7vxlTo-0AZdu"
      },
      "outputs": [],
      "source": [
        "y_test=model_1.predict(X1_test)\n"
      ]
    },
    {
      "cell_type": "code",
      "execution_count": null,
      "metadata": {
        "colab": {
          "base_uri": "https://localhost:8080/"
        },
        "id": "y_VTwgB7A8UH",
        "outputId": "dd7eab00-40bc-40e8-a06b-6db85e0d9711"
      },
      "outputs": [
        {
          "name": "stdout",
          "output_type": "stream",
          "text": [
            "0.043478260869565216\n"
          ]
        }
      ],
      "source": [
        "count = 0\n",
        "for i in range(len(y_test)):\n",
        "  if y_test[i] == y1_test.iloc[i]: # Use .iloc for position-based indexing\n",
        "    count += 1\n",
        "print(count/len(y_test))"
      ]
    },
    {
      "cell_type": "code",
      "execution_count": null,
      "metadata": {
        "colab": {
          "base_uri": "https://localhost:8080/"
        },
        "id": "8LS6F9GzBYrP",
        "outputId": "0c91cf87-b98e-438b-9745-630d2534695d"
      },
      "outputs": [
        {
          "name": "stdout",
          "output_type": "stream",
          "text": [
            "0.5652173913043478\n"
          ]
        }
      ],
      "source": [
        "y_test_2=model_2.predict(X2_test)\n",
        "count = 0\n",
        "for i in range(len(y_test_2)):\n",
        "  if y_test_2[i] == y2_test.iloc[i]: # Use .iloc for position-based indexing\n",
        "    count += 1\n",
        "print(count/len(y_test_2))"
      ]
    },
    {
      "cell_type": "code",
      "execution_count": null,
      "metadata": {
        "colab": {
          "base_uri": "https://localhost:8080/"
        },
        "id": "df9c4dbc",
        "outputId": "a89b779b-d523-49b8-9439-439ea56f49d7"
      },
      "outputs": [
        {
          "name": "stdout",
          "output_type": "stream",
          "text": [
            "0.34782608695652173\n"
          ]
        }
      ],
      "source": [
        "y_test_3=model_3.predict(X3_test)\n",
        "count=0\n",
        "for i in range(len(y_test_3)):\n",
        "  if y_test_3[i] == y3_test.iloc[i]: # Use .iloc for position-based indexing\n",
        "    count += 1\n",
        "print(count/len(y_test_3))"
      ]
    },
    {
      "cell_type": "code",
      "execution_count": null,
      "metadata": {
        "id": "T60vQcTMDHjQ"
      },
      "outputs": [],
      "source": [
        "import numpy as np\n",
        "\n",
        "def predict_species(X):\n",
        "  X = np.array(X) # Ensure input is a numpy array\n",
        "  y1_raw = model_1.predict(X, return_raw=True).flatten() # Get raw predictions and flatten\n",
        "  y2_raw = model_2.predict(X, return_raw=True).flatten()\n",
        "  y3_raw = model_3.predict(X, return_raw=True).flatten()\n",
        "\n",
        "  # Combine raw predictions for each sample\n",
        "  raw_predictions = np.vstack([y1_raw, y2_raw, y3_raw]).T\n",
        "\n",
        "  # Find the index of the maximum raw prediction for each sample\n",
        "  predicted_indices = np.argmax(raw_predictions, axis=1)\n",
        "\n",
        "  # Map the indices back to species names\n",
        "  species_map = {0: 'Iris-setosa', 1: 'Iris-versicolor', 2: 'Iris-virginica'}\n",
        "  predicted_species = np.array([species_map[index] for index in predicted_indices])\n",
        "\n",
        "  return predicted_species"
      ]
    },
    {
      "cell_type": "code",
      "execution_count": null,
      "metadata": {
        "colab": {
          "base_uri": "https://localhost:8080/",
          "height": 206
        },
        "id": "kTurQ6TYE7DQ",
        "outputId": "f9870ca2-69ab-43c1-d9af-080ec2f3620d"
      },
      "outputs": [
        {
          "data": {
            "application/vnd.google.colaboratory.intrinsic+json": {
              "summary": "{\n  \"name\": \"df\",\n  \"rows\": 150,\n  \"fields\": [\n    {\n      \"column\": \"Id\",\n      \"properties\": {\n        \"dtype\": \"number\",\n        \"std\": 43,\n        \"min\": 1,\n        \"max\": 150,\n        \"num_unique_values\": 150,\n        \"samples\": [\n          74,\n          19,\n          119\n        ],\n        \"semantic_type\": \"\",\n        \"description\": \"\"\n      }\n    },\n    {\n      \"column\": \"SepalLengthCm\",\n      \"properties\": {\n        \"dtype\": \"number\",\n        \"std\": 0.8280661279778629,\n        \"min\": 4.3,\n        \"max\": 7.9,\n        \"num_unique_values\": 35,\n        \"samples\": [\n          6.2,\n          4.5,\n          5.6\n        ],\n        \"semantic_type\": \"\",\n        \"description\": \"\"\n      }\n    },\n    {\n      \"column\": \"SepalWidthCm\",\n      \"properties\": {\n        \"dtype\": \"number\",\n        \"std\": 0.4335943113621737,\n        \"min\": 2.0,\n        \"max\": 4.4,\n        \"num_unique_values\": 23,\n        \"samples\": [\n          2.3,\n          4.0,\n          3.5\n        ],\n        \"semantic_type\": \"\",\n        \"description\": \"\"\n      }\n    },\n    {\n      \"column\": \"PetalLengthCm\",\n      \"properties\": {\n        \"dtype\": \"number\",\n        \"std\": 1.7644204199522617,\n        \"min\": 1.0,\n        \"max\": 6.9,\n        \"num_unique_values\": 43,\n        \"samples\": [\n          6.7,\n          3.8,\n          3.7\n        ],\n        \"semantic_type\": \"\",\n        \"description\": \"\"\n      }\n    },\n    {\n      \"column\": \"PetalWidthCm\",\n      \"properties\": {\n        \"dtype\": \"number\",\n        \"std\": 0.7631607417008414,\n        \"min\": 0.1,\n        \"max\": 2.5,\n        \"num_unique_values\": 22,\n        \"samples\": [\n          0.2,\n          1.2,\n          1.3\n        ],\n        \"semantic_type\": \"\",\n        \"description\": \"\"\n      }\n    },\n    {\n      \"column\": \"Species\",\n      \"properties\": {\n        \"dtype\": \"category\",\n        \"num_unique_values\": 3,\n        \"samples\": [\n          \"Iris-setosa\",\n          \"Iris-versicolor\",\n          \"Iris-virginica\"\n        ],\n        \"semantic_type\": \"\",\n        \"description\": \"\"\n      }\n    }\n  ]\n}",
              "type": "dataframe",
              "variable_name": "df"
            },
            "text/html": [
              "\n",
              "  <div id=\"df-87712410-d475-423e-ac39-461da895782d\" class=\"colab-df-container\">\n",
              "    <div>\n",
              "<style scoped>\n",
              "    .dataframe tbody tr th:only-of-type {\n",
              "        vertical-align: middle;\n",
              "    }\n",
              "\n",
              "    .dataframe tbody tr th {\n",
              "        vertical-align: top;\n",
              "    }\n",
              "\n",
              "    .dataframe thead th {\n",
              "        text-align: right;\n",
              "    }\n",
              "</style>\n",
              "<table border=\"1\" class=\"dataframe\">\n",
              "  <thead>\n",
              "    <tr style=\"text-align: right;\">\n",
              "      <th></th>\n",
              "      <th>Id</th>\n",
              "      <th>SepalLengthCm</th>\n",
              "      <th>SepalWidthCm</th>\n",
              "      <th>PetalLengthCm</th>\n",
              "      <th>PetalWidthCm</th>\n",
              "      <th>Species</th>\n",
              "    </tr>\n",
              "  </thead>\n",
              "  <tbody>\n",
              "    <tr>\n",
              "      <th>0</th>\n",
              "      <td>1</td>\n",
              "      <td>5.1</td>\n",
              "      <td>3.5</td>\n",
              "      <td>1.4</td>\n",
              "      <td>0.2</td>\n",
              "      <td>Iris-setosa</td>\n",
              "    </tr>\n",
              "    <tr>\n",
              "      <th>1</th>\n",
              "      <td>2</td>\n",
              "      <td>4.9</td>\n",
              "      <td>3.0</td>\n",
              "      <td>1.4</td>\n",
              "      <td>0.2</td>\n",
              "      <td>Iris-setosa</td>\n",
              "    </tr>\n",
              "    <tr>\n",
              "      <th>2</th>\n",
              "      <td>3</td>\n",
              "      <td>4.7</td>\n",
              "      <td>3.2</td>\n",
              "      <td>1.3</td>\n",
              "      <td>0.2</td>\n",
              "      <td>Iris-setosa</td>\n",
              "    </tr>\n",
              "    <tr>\n",
              "      <th>3</th>\n",
              "      <td>4</td>\n",
              "      <td>4.6</td>\n",
              "      <td>3.1</td>\n",
              "      <td>1.5</td>\n",
              "      <td>0.2</td>\n",
              "      <td>Iris-setosa</td>\n",
              "    </tr>\n",
              "    <tr>\n",
              "      <th>4</th>\n",
              "      <td>5</td>\n",
              "      <td>5.0</td>\n",
              "      <td>3.6</td>\n",
              "      <td>1.4</td>\n",
              "      <td>0.2</td>\n",
              "      <td>Iris-setosa</td>\n",
              "    </tr>\n",
              "  </tbody>\n",
              "</table>\n",
              "</div>\n",
              "    <div class=\"colab-df-buttons\">\n",
              "\n",
              "  <div class=\"colab-df-container\">\n",
              "    <button class=\"colab-df-convert\" onclick=\"convertToInteractive('df-87712410-d475-423e-ac39-461da895782d')\"\n",
              "            title=\"Convert this dataframe to an interactive table.\"\n",
              "            style=\"display:none;\">\n",
              "\n",
              "  <svg xmlns=\"http://www.w3.org/2000/svg\" height=\"24px\" viewBox=\"0 -960 960 960\">\n",
              "    <path d=\"M120-120v-720h720v720H120Zm60-500h600v-160H180v160Zm220 220h160v-160H400v160Zm0 220h160v-160H400v160ZM180-400h160v-160H180v160Zm440 0h160v-160H620v160ZM180-180h160v-160H180v160Zm440 0h160v-160H620v160Z\"/>\n",
              "  </svg>\n",
              "    </button>\n",
              "\n",
              "  <style>\n",
              "    .colab-df-container {\n",
              "      display:flex;\n",
              "      gap: 12px;\n",
              "    }\n",
              "\n",
              "    .colab-df-convert {\n",
              "      background-color: #E8F0FE;\n",
              "      border: none;\n",
              "      border-radius: 50%;\n",
              "      cursor: pointer;\n",
              "      display: none;\n",
              "      fill: #1967D2;\n",
              "      height: 32px;\n",
              "      padding: 0 0 0 0;\n",
              "      width: 32px;\n",
              "    }\n",
              "\n",
              "    .colab-df-convert:hover {\n",
              "      background-color: #E2EBFA;\n",
              "      box-shadow: 0px 1px 2px rgba(60, 64, 67, 0.3), 0px 1px 3px 1px rgba(60, 64, 67, 0.15);\n",
              "      fill: #174EA6;\n",
              "    }\n",
              "\n",
              "    .colab-df-buttons div {\n",
              "      margin-bottom: 4px;\n",
              "    }\n",
              "\n",
              "    [theme=dark] .colab-df-convert {\n",
              "      background-color: #3B4455;\n",
              "      fill: #D2E3FC;\n",
              "    }\n",
              "\n",
              "    [theme=dark] .colab-df-convert:hover {\n",
              "      background-color: #434B5C;\n",
              "      box-shadow: 0px 1px 3px 1px rgba(0, 0, 0, 0.15);\n",
              "      filter: drop-shadow(0px 1px 2px rgba(0, 0, 0, 0.3));\n",
              "      fill: #FFFFFF;\n",
              "    }\n",
              "  </style>\n",
              "\n",
              "    <script>\n",
              "      const buttonEl =\n",
              "        document.querySelector('#df-87712410-d475-423e-ac39-461da895782d button.colab-df-convert');\n",
              "      buttonEl.style.display =\n",
              "        google.colab.kernel.accessAllowed ? 'block' : 'none';\n",
              "\n",
              "      async function convertToInteractive(key) {\n",
              "        const element = document.querySelector('#df-87712410-d475-423e-ac39-461da895782d');\n",
              "        const dataTable =\n",
              "          await google.colab.kernel.invokeFunction('convertToInteractive',\n",
              "                                                    [key], {});\n",
              "        if (!dataTable) return;\n",
              "\n",
              "        const docLinkHtml = 'Like what you see? Visit the ' +\n",
              "          '<a target=\"_blank\" href=https://colab.research.google.com/notebooks/data_table.ipynb>data table notebook</a>'\n",
              "          + ' to learn more about interactive tables.';\n",
              "        element.innerHTML = '';\n",
              "        dataTable['output_type'] = 'display_data';\n",
              "        await google.colab.output.renderOutput(dataTable, element);\n",
              "        const docLink = document.createElement('div');\n",
              "        docLink.innerHTML = docLinkHtml;\n",
              "        element.appendChild(docLink);\n",
              "      }\n",
              "    </script>\n",
              "  </div>\n",
              "\n",
              "\n",
              "    <div id=\"df-8c756379-335e-45f0-b22c-bc02444c1f2b\">\n",
              "      <button class=\"colab-df-quickchart\" onclick=\"quickchart('df-8c756379-335e-45f0-b22c-bc02444c1f2b')\"\n",
              "                title=\"Suggest charts\"\n",
              "                style=\"display:none;\">\n",
              "\n",
              "<svg xmlns=\"http://www.w3.org/2000/svg\" height=\"24px\"viewBox=\"0 0 24 24\"\n",
              "     width=\"24px\">\n",
              "    <g>\n",
              "        <path d=\"M19 3H5c-1.1 0-2 .9-2 2v14c0 1.1.9 2 2 2h14c1.1 0 2-.9 2-2V5c0-1.1-.9-2-2-2zM9 17H7v-7h2v7zm4 0h-2V7h2v10zm4 0h-2v-4h2v4z\"/>\n",
              "    </g>\n",
              "</svg>\n",
              "      </button>\n",
              "\n",
              "<style>\n",
              "  .colab-df-quickchart {\n",
              "      --bg-color: #E8F0FE;\n",
              "      --fill-color: #1967D2;\n",
              "      --hover-bg-color: #E2EBFA;\n",
              "      --hover-fill-color: #174EA6;\n",
              "      --disabled-fill-color: #AAA;\n",
              "      --disabled-bg-color: #DDD;\n",
              "  }\n",
              "\n",
              "  [theme=dark] .colab-df-quickchart {\n",
              "      --bg-color: #3B4455;\n",
              "      --fill-color: #D2E3FC;\n",
              "      --hover-bg-color: #434B5C;\n",
              "      --hover-fill-color: #FFFFFF;\n",
              "      --disabled-bg-color: #3B4455;\n",
              "      --disabled-fill-color: #666;\n",
              "  }\n",
              "\n",
              "  .colab-df-quickchart {\n",
              "    background-color: var(--bg-color);\n",
              "    border: none;\n",
              "    border-radius: 50%;\n",
              "    cursor: pointer;\n",
              "    display: none;\n",
              "    fill: var(--fill-color);\n",
              "    height: 32px;\n",
              "    padding: 0;\n",
              "    width: 32px;\n",
              "  }\n",
              "\n",
              "  .colab-df-quickchart:hover {\n",
              "    background-color: var(--hover-bg-color);\n",
              "    box-shadow: 0 1px 2px rgba(60, 64, 67, 0.3), 0 1px 3px 1px rgba(60, 64, 67, 0.15);\n",
              "    fill: var(--button-hover-fill-color);\n",
              "  }\n",
              "\n",
              "  .colab-df-quickchart-complete:disabled,\n",
              "  .colab-df-quickchart-complete:disabled:hover {\n",
              "    background-color: var(--disabled-bg-color);\n",
              "    fill: var(--disabled-fill-color);\n",
              "    box-shadow: none;\n",
              "  }\n",
              "\n",
              "  .colab-df-spinner {\n",
              "    border: 2px solid var(--fill-color);\n",
              "    border-color: transparent;\n",
              "    border-bottom-color: var(--fill-color);\n",
              "    animation:\n",
              "      spin 1s steps(1) infinite;\n",
              "  }\n",
              "\n",
              "  @keyframes spin {\n",
              "    0% {\n",
              "      border-color: transparent;\n",
              "      border-bottom-color: var(--fill-color);\n",
              "      border-left-color: var(--fill-color);\n",
              "    }\n",
              "    20% {\n",
              "      border-color: transparent;\n",
              "      border-left-color: var(--fill-color);\n",
              "      border-top-color: var(--fill-color);\n",
              "    }\n",
              "    30% {\n",
              "      border-color: transparent;\n",
              "      border-left-color: var(--fill-color);\n",
              "      border-top-color: var(--fill-color);\n",
              "      border-right-color: var(--fill-color);\n",
              "    }\n",
              "    40% {\n",
              "      border-color: transparent;\n",
              "      border-right-color: var(--fill-color);\n",
              "      border-top-color: var(--fill-color);\n",
              "    }\n",
              "    60% {\n",
              "      border-color: transparent;\n",
              "      border-right-color: var(--fill-color);\n",
              "    }\n",
              "    80% {\n",
              "      border-color: transparent;\n",
              "      border-right-color: var(--fill-color);\n",
              "      border-bottom-color: var(--fill-color);\n",
              "    }\n",
              "    90% {\n",
              "      border-color: transparent;\n",
              "      border-bottom-color: var(--fill-color);\n",
              "    }\n",
              "  }\n",
              "</style>\n",
              "\n",
              "      <script>\n",
              "        async function quickchart(key) {\n",
              "          const quickchartButtonEl =\n",
              "            document.querySelector('#' + key + ' button');\n",
              "          quickchartButtonEl.disabled = true;  // To prevent multiple clicks.\n",
              "          quickchartButtonEl.classList.add('colab-df-spinner');\n",
              "          try {\n",
              "            const charts = await google.colab.kernel.invokeFunction(\n",
              "                'suggestCharts', [key], {});\n",
              "          } catch (error) {\n",
              "            console.error('Error during call to suggestCharts:', error);\n",
              "          }\n",
              "          quickchartButtonEl.classList.remove('colab-df-spinner');\n",
              "          quickchartButtonEl.classList.add('colab-df-quickchart-complete');\n",
              "        }\n",
              "        (() => {\n",
              "          let quickchartButtonEl =\n",
              "            document.querySelector('#df-8c756379-335e-45f0-b22c-bc02444c1f2b button');\n",
              "          quickchartButtonEl.style.display =\n",
              "            google.colab.kernel.accessAllowed ? 'block' : 'none';\n",
              "        })();\n",
              "      </script>\n",
              "    </div>\n",
              "\n",
              "    </div>\n",
              "  </div>\n"
            ],
            "text/plain": [
              "   Id  SepalLengthCm  SepalWidthCm  PetalLengthCm  PetalWidthCm      Species\n",
              "0   1            5.1           3.5            1.4           0.2  Iris-setosa\n",
              "1   2            4.9           3.0            1.4           0.2  Iris-setosa\n",
              "2   3            4.7           3.2            1.3           0.2  Iris-setosa\n",
              "3   4            4.6           3.1            1.5           0.2  Iris-setosa\n",
              "4   5            5.0           3.6            1.4           0.2  Iris-setosa"
            ]
          },
          "execution_count": 13,
          "metadata": {},
          "output_type": "execute_result"
        }
      ],
      "source": [
        "df.head()"
      ]
    },
    {
      "cell_type": "code",
      "execution_count": null,
      "metadata": {
        "id": "IYhEM-IfFGEX"
      },
      "outputs": [],
      "source": [
        "X_train,X_test,y_train,y_test=train_test_split(df.drop('Species',axis=1),df['Species'],test_size=0.3,random_state=42)"
      ]
    },
    {
      "cell_type": "code",
      "execution_count": null,
      "metadata": {
        "id": "yYB8r_QBFOOf"
      },
      "outputs": [],
      "source": []
    },
    {
      "cell_type": "code",
      "execution_count": null,
      "metadata": {
        "id": "olQRJ-lPFRuf"
      },
      "outputs": [],
      "source": []
    },
    {
      "cell_type": "code",
      "execution_count": null,
      "metadata": {
        "colab": {
          "base_uri": "https://localhost:8080/"
        },
        "id": "3707f44a",
        "outputId": "531c8ac4-5bbb-4d37-ddd2-29a5a6d055ac"
      },
      "outputs": [
        {
          "name": "stdout",
          "output_type": "stream",
          "text": [
            "Accuracy of the combined model: 0.2889\n"
          ]
        }
      ],
      "source": [
        "# Predict the species for the test set\n",
        "y_pred_combined = predict_species(X_test)\n",
        "\n",
        "# Calculate accuracy\n",
        "# Assuming y_test contains the original species labels\n",
        "accuracy_combined = (y_pred_combined == y_test).mean()\n",
        "\n",
        "print(f\"Accuracy of the combined model: {accuracy_combined:.4f}\")"
      ]
    },
    {
      "cell_type": "markdown",
      "metadata": {
        "id": "4618d80c"
      },
      "source": [
        "# Task\n",
        "Apply SMOTE with two different settings (k_neighbors=1 and default) to oversample the minority class in the binary classification datasets `df_1`, `df_2`, and `df_3`. Train a Linear Regression model on each of the oversampled datasets and evaluate their performance. Compare the performance of the models trained with the two different SMOTE settings for each dataset."
      ]
    },
    {
      "cell_type": "markdown",
      "metadata": {
        "id": "54a1fefa"
      },
      "source": [
        "## Install imbalanced-learn\n",
        "\n",
        "### Subtask:\n",
        "Install the necessary library for SMOTE.\n"
      ]
    },
    {
      "cell_type": "markdown",
      "metadata": {
        "id": "0ac8d255"
      },
      "source": [
        "**Reasoning**:\n",
        "The subtask requires installing the `imbalanced-learn` library, which can be done using pip in a separate cell.\n",
        "\n"
      ]
    },
    {
      "cell_type": "code",
      "execution_count": 1,
      "metadata": {
        "colab": {
          "base_uri": "https://localhost:8080/"
        },
        "id": "349de9c6",
        "outputId": "48e52587-f368-4b80-fa7f-4fe086880a6c"
      },
      "outputs": [
        {
          "name": "stdout",
          "output_type": "stream",
          "text": [
            "Collecting imbalanced-learn\n",
            "  Downloading imbalanced_learn-0.14.0-py3-none-any.whl.metadata (8.8 kB)\n",
            "Requirement already satisfied: numpy<3,>=1.25.2 in c:\\users\\vishal gautam\\appdata\\local\\programs\\python\\python312\\lib\\site-packages (from imbalanced-learn) (2.2.6)\n",
            "Requirement already satisfied: scipy<2,>=1.11.4 in c:\\users\\vishal gautam\\appdata\\local\\programs\\python\\python312\\lib\\site-packages (from imbalanced-learn) (1.16.1)\n",
            "Requirement already satisfied: scikit-learn<2,>=1.4.2 in c:\\users\\vishal gautam\\appdata\\local\\programs\\python\\python312\\lib\\site-packages (from imbalanced-learn) (1.7.1)\n",
            "Requirement already satisfied: joblib<2,>=1.2.0 in c:\\users\\vishal gautam\\appdata\\local\\programs\\python\\python312\\lib\\site-packages (from imbalanced-learn) (1.5.2)\n",
            "Requirement already satisfied: threadpoolctl<4,>=2.0.0 in c:\\users\\vishal gautam\\appdata\\local\\programs\\python\\python312\\lib\\site-packages (from imbalanced-learn) (3.6.0)\n",
            "Downloading imbalanced_learn-0.14.0-py3-none-any.whl (239 kB)\n",
            "Installing collected packages: imbalanced-learn\n",
            "Successfully installed imbalanced-learn-0.14.0\n",
            "Note: you may need to restart the kernel to use updated packages.\n"
          ]
        }
      ],
      "source": [
        "%pip install imbalanced-learn"
      ]
    },
    {
      "cell_type": "markdown",
      "metadata": {
        "id": "61bb4323"
      },
      "source": [
        "## Apply smote (setting a)\n",
        "\n",
        "### Subtask:\n",
        "Apply SMOTE with `k_neighbors` set to 1 for each of the binary classification datasets (`df_1`, `df_2`, and `df_3`) to create synthetic samples.\n"
      ]
    },
    {
      "cell_type": "markdown",
      "metadata": {
        "id": "0fa30091"
      },
      "source": [
        "**Reasoning**:\n",
        "Import the SMOTE class and apply it to the training data for each dataset with k_neighbors=1.\n",
        "\n"
      ]
    },
    {
      "cell_type": "code",
      "execution_count": 18,
      "metadata": {
        "colab": {
          "base_uri": "https://localhost:8080/"
        },
        "id": "fbc68c11",
        "outputId": "cbb2e69d-d2fd-4a34-e495-5ea669c70cf4"
      },
      "outputs": [
        {
          "name": "stdout",
          "output_type": "stream",
          "text": [
            "Shape of original X1_train: (105, 5)\n",
            "Shape of resampled X1_resampled_k1: (148, 5)\n",
            "\n",
            "Shape of original X2_train: (105, 5)\n",
            "Shape of resampled X2_resampled_k1: (136, 5)\n",
            "\n",
            "Shape of original X3_train: (105, 5)\n",
            "Shape of resampled X3_resampled_k1: (136, 5)\n"
          ]
        }
      ],
      "source": [
        "from imblearn.over_sampling import SMOTE\n",
        "\n",
        "# Instantiate SMOTE with k_neighbors=1\n",
        "smote_k1 = SMOTE(k_neighbors=1, random_state=42)\n",
        "\n",
        "# Apply SMOTE to the training data for df_1\n",
        "X1_resampled_k1, y1_resampled_k1 = smote_k1.fit_resample(X1_train, y1_train)\n",
        "\n",
        "# Apply SMOTE to the training data for df_2\n",
        "X2_resampled_k1, y2_resampled_k1 = smote_k1.fit_resample(X2_train, y2_train)\n",
        "\n",
        "# Apply SMOTE to the training data for df_3\n",
        "X3_resampled_k1, y3_resampled_k1 = smote_k1.fit_resample(X3_train, y3_train)\n",
        "\n",
        "print(\"Shape of original X1_train:\", X1_train.shape)\n",
        "print(\"Shape of resampled X1_resampled_k1:\", X1_resampled_k1.shape)\n",
        "print(\"\\nShape of original X2_train:\", X2_train.shape)\n",
        "print(\"Shape of resampled X2_resampled_k1:\", X2_resampled_k1.shape)\n",
        "print(\"\\nShape of original X3_train:\", X3_train.shape)\n",
        "print(\"Shape of resampled X3_resampled_k1:\", X3_resampled_k1.shape)"
      ]
    },
    {
      "cell_type": "markdown",
      "metadata": {
        "id": "398e662a"
      },
      "source": [
        "## Train linear regression models (setting a)\n",
        "\n",
        "### Subtask:\n",
        "Train a `LinearRegression` model on each of the oversampled datasets created in the previous step.\n"
      ]
    },
    {
      "cell_type": "markdown",
      "metadata": {
        "id": "8192ea1e"
      },
      "source": [
        "**Reasoning**:\n",
        "Instantiate and train the LinearRegression models on the oversampled datasets with the specified parameters.\n",
        "\n"
      ]
    },
    {
      "cell_type": "code",
      "execution_count": 19,
      "metadata": {
        "colab": {
          "base_uri": "https://localhost:8080/"
        },
        "id": "b43058e9",
        "outputId": "fe902a52-5a1e-4774-c22f-d78c20f967b8"
      },
      "outputs": [
        {
          "name": "stdout",
          "output_type": "stream",
          "text": [
            "Epoch 0, Loss: 0.5000\n",
            "Epoch 100, Loss: 0.4934\n",
            "Epoch 200, Loss: 0.4882\n",
            "Epoch 300, Loss: 0.4840\n",
            "Epoch 400, Loss: 0.4807\n",
            "Epoch 500, Loss: 0.4780\n",
            "Epoch 600, Loss: 0.4759\n",
            "Epoch 700, Loss: 0.4742\n",
            "Epoch 800, Loss: 0.4728\n",
            "Epoch 900, Loss: 0.4717\n",
            "Epoch 999, Loss: 0.4708\n",
            "\n",
            "Validation Loss: 1.4785\n",
            "Epoch 0, Loss: 0.5000\n",
            "Epoch 100, Loss: 0.4485\n",
            "Epoch 200, Loss: 0.4104\n",
            "Epoch 300, Loss: 0.3823\n",
            "Epoch 400, Loss: 0.3616\n",
            "Epoch 500, Loss: 0.3463\n",
            "Epoch 600, Loss: 0.3349\n",
            "Epoch 700, Loss: 0.3266\n",
            "Epoch 800, Loss: 0.3204\n",
            "Epoch 900, Loss: 0.3159\n",
            "Epoch 999, Loss: 0.3125\n",
            "\n",
            "Validation Loss: 8.2235\n",
            "Epoch 0, Loss: 0.5000\n",
            "Epoch 100, Loss: 0.3700\n",
            "Epoch 200, Loss: 0.2826\n",
            "Epoch 300, Loss: 0.2237\n",
            "Epoch 400, Loss: 0.1841\n",
            "Epoch 500, Loss: 0.1574\n",
            "Epoch 600, Loss: 0.1394\n",
            "Epoch 700, Loss: 0.1274\n",
            "Epoch 800, Loss: 0.1192\n",
            "Epoch 900, Loss: 0.1138\n",
            "Epoch 999, Loss: 0.1101\n",
            "\n",
            "Validation Loss: 12.9343\n"
          ]
        }
      ],
      "source": [
        "model_1_smote_k1 = LinearRegression()\n",
        "model_2_smote_k1 = LinearRegression()\n",
        "model_3_smote_k1 = LinearRegression()\n",
        "\n",
        "model_1_smote_k1.fit(X1_resampled_k1, y1_resampled_k1, X_val=X1_val, y_val=y1_val, lr=1e-7, epochs=1000)\n",
        "model_2_smote_k1.fit(X2_resampled_k1, y2_resampled_k1, X_val=X2_val, y_val=y2_val, lr=1e-7, epochs=1000)\n",
        "model_3_smote_k1.fit(X3_resampled_k1, y3_resampled_k1, X_val=X3_val, y_val=y3_val, lr=1e-7, epochs=1000)"
      ]
    },
    {
      "cell_type": "markdown",
      "metadata": {
        "id": "33938578"
      },
      "source": [
        "## Evaluate performance (setting a)\n",
        "\n",
        "### Subtask:\n",
        "Evaluate the performance of each of the models trained in the previous step on their respective test sets and compare the results.\n"
      ]
    },
    {
      "cell_type": "markdown",
      "metadata": {
        "id": "4880e578"
      },
      "source": [
        "**Reasoning**:\n",
        "Evaluate the performance of the trained models on the test sets and print the accuracies.\n",
        "\n"
      ]
    },
    {
      "cell_type": "code",
      "execution_count": 21,
      "metadata": {
        "colab": {
          "base_uri": "https://localhost:8080/"
        },
        "id": "EsAe_WprYuW_",
        "outputId": "8d656e4d-590f-4720-e92c-2f92a18fd8e2"
      },
      "outputs": [
        {
          "name": "stdout",
          "output_type": "stream",
          "text": [
            "Accuracy of model_1_smote_k1: 0.0870\n",
            "Accuracy of model_2_smote_k1: 0.4783\n",
            "Accuracy of model_3_smote_k1: 0.3043\n"
          ]
        }
      ],
      "source": [
        "# Get predictions on the test sets\n",
        "y1_pred_k1 = model_1_smote_k1.predict(X1_test)\n",
        "y2_pred_k1 = model_2_smote_k1.predict(X2_test)\n",
        "y3_pred_k1 = model_3_smote_k1.predict(X3_test)\n",
        "\n",
        "# Reshape predictions to be 1-dimensional\n",
        "y1_pred_k1 = y1_pred_k1.flatten()\n",
        "y2_pred_k1 = y2_pred_k1.flatten()\n",
        "y3_pred_k1 = y3_pred_k1.flatten()\n",
        "\n",
        "# Calculate accuracies\n",
        "accuracy_1_k1 = (y1_pred_k1 == y1_test).mean()\n",
        "accuracy_2_k1 = (y2_pred_k1 == y2_test).mean()\n",
        "accuracy_3_k1 = (y3_pred_k1 == y3_test).mean()\n",
        "\n",
        "# Print accuracies\n",
        "print(f\"Accuracy of model_1_smote_k1: {accuracy_1_k1:.4f}\")\n",
        "print(f\"Accuracy of model_2_smote_k1: {accuracy_2_k1:.4f}\")\n",
        "print(f\"Accuracy of model_3_smote_k1: {accuracy_3_k1:.4f}\")"
      ]
    },
    {
      "cell_type": "markdown",
      "metadata": {
        "id": "e91387d6"
      },
      "source": [
        "## Apply smote (setting b)\n",
        "\n",
        "### Subtask:\n",
        "Apply SMOTE with default settings (using the nearest neighbors) for each of the binary classification datasets (`df_1`, `df_2`, and `df_3`) to create synthetic samples.\n"
      ]
    },
    {
      "cell_type": "markdown",
      "metadata": {
        "id": "6d7562e2"
      },
      "source": [
        "**Reasoning**:\n",
        "Apply SMOTE with default settings to the training data for each binary classification dataset and print the shapes to verify.\n",
        "\n"
      ]
    },
    {
      "cell_type": "code",
      "execution_count": 22,
      "metadata": {
        "colab": {
          "base_uri": "https://localhost:8080/"
        },
        "id": "e07b357c",
        "outputId": "8dffd3c9-3991-4d8c-e776-8f3f1dd3e76d"
      },
      "outputs": [
        {
          "name": "stdout",
          "output_type": "stream",
          "text": [
            "Shape of original X1_train: (105, 5)\n",
            "Shape of resampled X1_resampled_default: (148, 5)\n",
            "\n",
            "Shape of original X2_train: (105, 5)\n",
            "Shape of resampled X2_resampled_default: (136, 5)\n",
            "\n",
            "Shape of original X3_train: (105, 5)\n",
            "Shape of resampled X3_resampled_default: (136, 5)\n"
          ]
        }
      ],
      "source": [
        "# Instantiate SMOTE with default settings\n",
        "smote_default = SMOTE(random_state=42)\n",
        "\n",
        "# Apply SMOTE to the training data for df_1\n",
        "X1_resampled_default, y1_resampled_default = smote_default.fit_resample(X1_train, y1_train)\n",
        "\n",
        "# Apply SMOTE to the training data for df_2\n",
        "X2_resampled_default, y2_resampled_default = smote_default.fit_resample(X2_train, y2_train)\n",
        "\n",
        "# Apply SMOTE to the training data for df_3\n",
        "X3_resampled_default, y3_resampled_default = smote_default.fit_resample(X3_train, y3_train)\n",
        "\n",
        "# Print the shapes of the original and resampled training data for each dataset\n",
        "print(\"Shape of original X1_train:\", X1_train.shape)\n",
        "print(\"Shape of resampled X1_resampled_default:\", X1_resampled_default.shape)\n",
        "print(\"\\nShape of original X2_train:\", X2_train.shape)\n",
        "print(\"Shape of resampled X2_resampled_default:\", X2_resampled_default.shape)\n",
        "print(\"\\nShape of original X3_train:\", X3_train.shape)\n",
        "print(\"Shape of resampled X3_resampled_default:\", X3_resampled_default.shape)"
      ]
    },
    {
      "cell_type": "markdown",
      "metadata": {
        "id": "0c91a768"
      },
      "source": [
        "## Train linear regression models (setting b)\n",
        "\n",
        "### Subtask:\n",
        "Train a `LinearRegression` model on each of the oversampled datasets created in the previous step.\n"
      ]
    },
    {
      "cell_type": "markdown",
      "metadata": {
        "id": "23636665"
      },
      "source": [
        "**Reasoning**:\n",
        "Instantiate and train the Linear Regression models on the oversampled datasets with default SMOTE settings.\n",
        "\n"
      ]
    },
    {
      "cell_type": "code",
      "execution_count": 23,
      "metadata": {
        "colab": {
          "base_uri": "https://localhost:8080/"
        },
        "id": "0a2a617f",
        "outputId": "138a88bd-f8dd-4c8b-f4ce-e27fa683adfa"
      },
      "outputs": [
        {
          "name": "stdout",
          "output_type": "stream",
          "text": [
            "Training model_1_smote_default...\n",
            "Epoch 0, Loss: 0.5000\n",
            "Epoch 100, Loss: 0.4940\n",
            "Epoch 200, Loss: 0.4892\n",
            "Epoch 300, Loss: 0.4854\n",
            "Epoch 400, Loss: 0.4824\n",
            "Epoch 500, Loss: 0.4800\n",
            "Epoch 600, Loss: 0.4780\n",
            "Epoch 700, Loss: 0.4764\n",
            "Epoch 800, Loss: 0.4751\n",
            "Epoch 900, Loss: 0.4741\n",
            "Epoch 999, Loss: 0.4732\n",
            "\n",
            "Validation Loss: 1.3762\n",
            "\n",
            "Training model_2_smote_default...\n",
            "Epoch 0, Loss: 0.5000\n",
            "Epoch 100, Loss: 0.4497\n",
            "Epoch 200, Loss: 0.4124\n",
            "Epoch 300, Loss: 0.3848\n",
            "Epoch 400, Loss: 0.3643\n",
            "Epoch 500, Loss: 0.3492\n",
            "Epoch 600, Loss: 0.3379\n",
            "Epoch 700, Loss: 0.3296\n",
            "Epoch 800, Loss: 0.3234\n",
            "Epoch 900, Loss: 0.3189\n",
            "Epoch 999, Loss: 0.3155\n",
            "\n",
            "Validation Loss: 8.1163\n",
            "\n",
            "Training model_3_smote_default...\n",
            "Epoch 0, Loss: 0.5000\n",
            "Epoch 100, Loss: 0.3740\n",
            "Epoch 200, Loss: 0.2882\n",
            "Epoch 300, Loss: 0.2297\n",
            "Epoch 400, Loss: 0.1900\n",
            "Epoch 500, Loss: 0.1629\n",
            "Epoch 600, Loss: 0.1444\n",
            "Epoch 700, Loss: 0.1319\n",
            "Epoch 800, Loss: 0.1233\n",
            "Epoch 900, Loss: 0.1175\n",
            "Epoch 999, Loss: 0.1135\n",
            "\n",
            "Validation Loss: 12.9945\n"
          ]
        }
      ],
      "source": [
        "# Instantiate three new LinearRegression models for default SMOTE\n",
        "model_1_smote_default = LinearRegression()\n",
        "model_2_smote_default = LinearRegression()\n",
        "model_3_smote_default = LinearRegression()\n",
        "\n",
        "# Train model_1_smote_default\n",
        "print(\"Training model_1_smote_default...\")\n",
        "model_1_smote_default.fit(X1_resampled_default, y1_resampled_default, X_val=X1_val, y_val=y1_val, lr=1e-7, epochs=1000)\n",
        "\n",
        "# Train model_2_smote_default\n",
        "print(\"\\nTraining model_2_smote_default...\")\n",
        "model_2_smote_default.fit(X2_resampled_default, y2_resampled_default, X_val=X2_val, y_val=y2_val, lr=1e-7, epochs=1000)\n",
        "\n",
        "# Train model_3_smote_default\n",
        "print(\"\\nTraining model_3_smote_default...\")\n",
        "model_3_smote_default.fit(X3_resampled_default, y3_resampled_default, X_val=X3_val, y_val=y3_val, lr=1e-7, epochs=1000)"
      ]
    },
    {
      "cell_type": "markdown",
      "metadata": {
        "id": "f49ca1ba"
      },
      "source": [
        "## Evaluate performance (setting b)\n",
        "\n",
        "### Subtask:\n",
        "Evaluate the performance of each of the models trained in the previous step on their respective test sets and compare the results.\n"
      ]
    },
    {
      "cell_type": "markdown",
      "metadata": {
        "id": "029dbe6f"
      },
      "source": [
        "**Reasoning**:\n",
        "Evaluate the performance of each of the models trained in the previous step on their respective test sets and compare the results.\n",
        "\n"
      ]
    },
    {
      "cell_type": "code",
      "execution_count": 24,
      "metadata": {
        "colab": {
          "base_uri": "https://localhost:8080/"
        },
        "id": "422d19a7",
        "outputId": "b5d37f3e-efa9-433b-ac9d-0ca62c893afc"
      },
      "outputs": [
        {
          "name": "stdout",
          "output_type": "stream",
          "text": [
            "Accuracy of model_1_smote_default: 0.0870\n",
            "Accuracy of model_2_smote_default: 0.4783\n",
            "Accuracy of model_3_smote_default: 0.3043\n",
            "\n",
            "Comparison with k_neighbors=1 SMOTE:\n",
            "model_1_smote_default accuracy (0.0870) vs model_1_smote_k1 accuracy (0.0870)\n",
            "model_2_smote_default accuracy (0.4783) vs model_2_smote_k1 accuracy (0.4783)\n",
            "model_3_smote_default accuracy (0.3043) vs model_3_smote_k1 accuracy (0.3043)\n"
          ]
        }
      ],
      "source": [
        "# Get predictions on the test sets for default SMOTE models\n",
        "y1_pred_default = model_1_smote_default.predict(X1_test)\n",
        "y2_pred_default = model_2_smote_default.predict(X2_test)\n",
        "y3_pred_default = model_3_smote_default.predict(X3_test)\n",
        "\n",
        "# Reshape predictions to be 1-dimensional\n",
        "y1_pred_default = y1_pred_default.flatten()\n",
        "y2_pred_default = y2_pred_default.flatten()\n",
        "y3_pred_default = y3_pred_default.flatten()\n",
        "\n",
        "# Calculate accuracies for default SMOTE models\n",
        "accuracy_1_default = (y1_pred_default == y1_test).mean()\n",
        "accuracy_2_default = (y2_pred_default == y2_test).mean()\n",
        "accuracy_3_default = (y3_pred_default == y3_test).mean()\n",
        "\n",
        "# Print accuracies for default SMOTE models\n",
        "print(f\"Accuracy of model_1_smote_default: {accuracy_1_default:.4f}\")\n",
        "print(f\"Accuracy of model_2_smote_default: {accuracy_2_default:.4f}\")\n",
        "print(f\"Accuracy of model_3_smote_default: {accuracy_3_default:.4f}\")\n",
        "\n",
        "# Compare accuracies with k_neighbors=1\n",
        "print(\"\\nComparison with k_neighbors=1 SMOTE:\")\n",
        "print(f\"model_1_smote_default accuracy ({accuracy_1_default:.4f}) vs model_1_smote_k1 accuracy ({accuracy_1_k1:.4f})\")\n",
        "print(f\"model_2_smote_default accuracy ({accuracy_2_default:.4f}) vs model_2_smote_k1 accuracy ({accuracy_2_k1:.4f})\")\n",
        "print(f\"model_3_smote_default accuracy ({accuracy_3_default:.4f}) vs model_3_smote_k1 accuracy ({accuracy_3_k1:.4f})\")"
      ]
    },
    {
      "cell_type": "markdown",
      "metadata": {
        "id": "bc30a313"
      },
      "source": [
        "## Compare results of both settings\n",
        "\n",
        "### Subtask:\n",
        "Compare the performance metrics obtained from both SMOTE settings (a and b) for each binary classifier.\n"
      ]
    },
    {
      "cell_type": "markdown",
      "metadata": {
        "id": "8d2277f4"
      },
      "source": [
        "**Reasoning**:\n",
        "Compare the accuracy values from both SMOTE settings and summarize the observations.\n",
        "\n"
      ]
    },
    {
      "cell_type": "code",
      "execution_count": 25,
      "metadata": {
        "colab": {
          "base_uri": "https://localhost:8080/"
        },
        "id": "0268db77",
        "outputId": "905be3cb-3efa-4419-f2dd-80cc5e417857"
      },
      "outputs": [
        {
          "name": "stdout",
          "output_type": "stream",
          "text": [
            "Comparison of Accuracy with k_neighbors=1 vs Default SMOTE:\n",
            "Dataset 1 (Iris-setosa vs Others):\n",
            "  SMOTE k_neighbors=1 Accuracy: 0.0870\n",
            "  SMOTE Default Accuracy:       0.0870\n",
            "  Observation: Accuracy stayed the same with Default SMOTE.\n",
            "\n",
            "Dataset 2 (Iris-versicolor vs Others):\n",
            "  SMOTE k_neighbors=1 Accuracy: 0.4783\n",
            "  SMOTE Default Accuracy:       0.4783\n",
            "  Observation: Accuracy stayed the same with Default SMOTE.\n",
            "\n",
            "Dataset 3 (Iris-virginica vs Others):\n",
            "  SMOTE k_neighbors=1 Accuracy: 0.3043\n",
            "  SMOTE Default Accuracy:       0.3043\n",
            "  Observation: Accuracy stayed the same with Default SMOTE.\n",
            "\n",
            "Summary of Observations on the impact of k_neighbors in SMOTE:\n",
            "For all three binary classification tasks (Iris-setosa vs Others, Iris-versicolor vs Others, and Iris-virginica vs Others),\n",
            "the accuracy of the Linear Regression models on the test set remained the same regardless of whether SMOTE was applied with\n",
            "k_neighbors=1 or with the default k_neighbors setting.\n"
          ]
        }
      ],
      "source": [
        "# Compare accuracies obtained from both SMOTE settings\n",
        "print(\"Comparison of Accuracy with k_neighbors=1 vs Default SMOTE:\")\n",
        "print(f\"Dataset 1 (Iris-setosa vs Others):\")\n",
        "print(f\"  SMOTE k_neighbors=1 Accuracy: {accuracy_1_k1:.4f}\")\n",
        "print(f\"  SMOTE Default Accuracy:       {accuracy_1_default:.4f}\")\n",
        "if accuracy_1_default > accuracy_1_k1:\n",
        "    print(\"  Observation: Accuracy improved with Default SMOTE.\")\n",
        "elif accuracy_1_default < accuracy_1_k1:\n",
        "    print(\"  Observation: Accuracy worsened with Default SMOTE.\")\n",
        "else:\n",
        "    print(\"  Observation: Accuracy stayed the same with Default SMOTE.\")\n",
        "\n",
        "print(f\"\\nDataset 2 (Iris-versicolor vs Others):\")\n",
        "print(f\"  SMOTE k_neighbors=1 Accuracy: {accuracy_2_k1:.4f}\")\n",
        "print(f\"  SMOTE Default Accuracy:       {accuracy_2_default:.4f}\")\n",
        "if accuracy_2_default > accuracy_2_k1:\n",
        "    print(\"  Observation: Accuracy improved with Default SMOTE.\")\n",
        "elif accuracy_2_default < accuracy_2_k1:\n",
        "    print(\"  Observation: Accuracy worsened with Default SMOTE.\")\n",
        "else:\n",
        "    print(\"  Observation: Accuracy stayed the same with Default SMOTE.\")\n",
        "\n",
        "print(f\"\\nDataset 3 (Iris-virginica vs Others):\")\n",
        "print(f\"  SMOTE k_neighbors=1 Accuracy: {accuracy_3_k1:.4f}\")\n",
        "print(f\"  SMOTE Default Accuracy:       {accuracy_3_default:.4f}\")\n",
        "if accuracy_3_default > accuracy_3_k1:\n",
        "    print(\"  Observation: Accuracy improved with Default SMOTE.\")\n",
        "elif accuracy_3_default < accuracy_3_k1:\n",
        "    print(\"  Observation: Accuracy worsened with Default SMOTE.\")\n",
        "else:\n",
        "    print(\"  Observation: Accuracy stayed the same with Default SMOTE.\")\n",
        "\n",
        "# Summarize overall observations\n",
        "print(\"\\nSummary of Observations on the impact of k_neighbors in SMOTE:\")\n",
        "print(\"For all three binary classification tasks (Iris-setosa vs Others, Iris-versicolor vs Others, and Iris-virginica vs Others),\")\n",
        "print(\"the accuracy of the Linear Regression models on the test set remained the same regardless of whether SMOTE was applied with\")\n",
        "print(\"k_neighbors=1 or with the default k_neighbors setting.\")"
      ]
    },
    {
      "cell_type": "markdown",
      "metadata": {
        "id": "775922dd"
      },
      "source": [
        "## Summary:\n",
        "\n",
        "### Data Analysis Key Findings\n",
        "\n",
        "*   Applying SMOTE with `k_neighbors=1` successfully oversampled the minority class in `df_1`, `df_2`, and `df_3`, increasing the number of samples in the training sets.\n",
        "*   Training Linear Regression models on the `k_neighbors=1` SMOTE-oversampled data resulted in test accuracies of 0.0870 for `df_1`, 0.4783 for `df_2`, and 0.3043 for `df_3`.\n",
        "*   Applying SMOTE with default settings also successfully oversampled the minority class in the datasets.\n",
        "*   Training Linear Regression models on the default SMOTE-oversampled data yielded test accuracies of 0.0870 for `df_1`, 0.4783 for `df_2`, and 0.3043 for `df_3`.\n",
        "*   The test accuracies for the Linear Regression models were identical for both SMOTE settings (`k_neighbors=1` and default) across all three datasets.\n",
        "\n",
        "### Insights or Next Steps\n",
        "\n",
        "*   For these specific datasets and the Linear Regression model, the choice between SMOTE with `k_neighbors=1` and default settings did not impact model performance as measured by accuracy.\n",
        "*   Further analysis could explore the impact of different values for `k_neighbors` in SMOTE, or evaluate the models using alternative metrics more suitable for imbalanced datasets, such as precision, recall, F1-score, or AUC.\n"
      ]
    }
  ],
  "metadata": {
    "colab": {
      "authorship_tag": "ABX9TyOhkvVnDXUPpuquEQacNdl7",
      "include_colab_link": true,
      "provenance": []
    },
    "kernelspec": {
      "display_name": "Python 3",
      "name": "python3"
    },
    "language_info": {
      "codemirror_mode": {
        "name": "ipython",
        "version": 3
      },
      "file_extension": ".py",
      "mimetype": "text/x-python",
      "name": "python",
      "nbconvert_exporter": "python",
      "pygments_lexer": "ipython3",
      "version": "3.12.7"
    }
  },
  "nbformat": 4,
  "nbformat_minor": 0
}
