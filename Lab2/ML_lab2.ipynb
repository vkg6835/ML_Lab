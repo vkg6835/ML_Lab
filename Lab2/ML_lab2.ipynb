{
  "nbformat": 4,
  "nbformat_minor": 0,
  "metadata": {
    "colab": {
      "provenance": []
    },
    "kernelspec": {
      "name": "python3",
      "display_name": "Python 3"
    },
    "language_info": {
      "name": "python"
    }
  },
  "cells": [
    {
      "cell_type": "code",
      "execution_count": 8,
      "metadata": {
        "colab": {
          "base_uri": "https://localhost:8080/",
          "height": 73
        },
        "id": "cYssZAKc3aNr",
        "outputId": "564e1111-de6d-4a63-cde8-87111282723b"
      },
      "outputs": [
        {
          "output_type": "display_data",
          "data": {
            "text/plain": [
              "<IPython.core.display.HTML object>"
            ],
            "text/html": [
              "\n",
              "     <input type=\"file\" id=\"files-66d24e2e-8824-4837-b60f-88ccca43450c\" name=\"files[]\" multiple disabled\n",
              "        style=\"border:none\" />\n",
              "     <output id=\"result-66d24e2e-8824-4837-b60f-88ccca43450c\">\n",
              "      Upload widget is only available when the cell has been executed in the\n",
              "      current browser session. Please rerun this cell to enable.\n",
              "      </output>\n",
              "      <script>// Copyright 2017 Google LLC\n",
              "//\n",
              "// Licensed under the Apache License, Version 2.0 (the \"License\");\n",
              "// you may not use this file except in compliance with the License.\n",
              "// You may obtain a copy of the License at\n",
              "//\n",
              "//      http://www.apache.org/licenses/LICENSE-2.0\n",
              "//\n",
              "// Unless required by applicable law or agreed to in writing, software\n",
              "// distributed under the License is distributed on an \"AS IS\" BASIS,\n",
              "// WITHOUT WARRANTIES OR CONDITIONS OF ANY KIND, either express or implied.\n",
              "// See the License for the specific language governing permissions and\n",
              "// limitations under the License.\n",
              "\n",
              "/**\n",
              " * @fileoverview Helpers for google.colab Python module.\n",
              " */\n",
              "(function(scope) {\n",
              "function span(text, styleAttributes = {}) {\n",
              "  const element = document.createElement('span');\n",
              "  element.textContent = text;\n",
              "  for (const key of Object.keys(styleAttributes)) {\n",
              "    element.style[key] = styleAttributes[key];\n",
              "  }\n",
              "  return element;\n",
              "}\n",
              "\n",
              "// Max number of bytes which will be uploaded at a time.\n",
              "const MAX_PAYLOAD_SIZE = 100 * 1024;\n",
              "\n",
              "function _uploadFiles(inputId, outputId) {\n",
              "  const steps = uploadFilesStep(inputId, outputId);\n",
              "  const outputElement = document.getElementById(outputId);\n",
              "  // Cache steps on the outputElement to make it available for the next call\n",
              "  // to uploadFilesContinue from Python.\n",
              "  outputElement.steps = steps;\n",
              "\n",
              "  return _uploadFilesContinue(outputId);\n",
              "}\n",
              "\n",
              "// This is roughly an async generator (not supported in the browser yet),\n",
              "// where there are multiple asynchronous steps and the Python side is going\n",
              "// to poll for completion of each step.\n",
              "// This uses a Promise to block the python side on completion of each step,\n",
              "// then passes the result of the previous step as the input to the next step.\n",
              "function _uploadFilesContinue(outputId) {\n",
              "  const outputElement = document.getElementById(outputId);\n",
              "  const steps = outputElement.steps;\n",
              "\n",
              "  const next = steps.next(outputElement.lastPromiseValue);\n",
              "  return Promise.resolve(next.value.promise).then((value) => {\n",
              "    // Cache the last promise value to make it available to the next\n",
              "    // step of the generator.\n",
              "    outputElement.lastPromiseValue = value;\n",
              "    return next.value.response;\n",
              "  });\n",
              "}\n",
              "\n",
              "/**\n",
              " * Generator function which is called between each async step of the upload\n",
              " * process.\n",
              " * @param {string} inputId Element ID of the input file picker element.\n",
              " * @param {string} outputId Element ID of the output display.\n",
              " * @return {!Iterable<!Object>} Iterable of next steps.\n",
              " */\n",
              "function* uploadFilesStep(inputId, outputId) {\n",
              "  const inputElement = document.getElementById(inputId);\n",
              "  inputElement.disabled = false;\n",
              "\n",
              "  const outputElement = document.getElementById(outputId);\n",
              "  outputElement.innerHTML = '';\n",
              "\n",
              "  const pickedPromise = new Promise((resolve) => {\n",
              "    inputElement.addEventListener('change', (e) => {\n",
              "      resolve(e.target.files);\n",
              "    });\n",
              "  });\n",
              "\n",
              "  const cancel = document.createElement('button');\n",
              "  inputElement.parentElement.appendChild(cancel);\n",
              "  cancel.textContent = 'Cancel upload';\n",
              "  const cancelPromise = new Promise((resolve) => {\n",
              "    cancel.onclick = () => {\n",
              "      resolve(null);\n",
              "    };\n",
              "  });\n",
              "\n",
              "  // Wait for the user to pick the files.\n",
              "  const files = yield {\n",
              "    promise: Promise.race([pickedPromise, cancelPromise]),\n",
              "    response: {\n",
              "      action: 'starting',\n",
              "    }\n",
              "  };\n",
              "\n",
              "  cancel.remove();\n",
              "\n",
              "  // Disable the input element since further picks are not allowed.\n",
              "  inputElement.disabled = true;\n",
              "\n",
              "  if (!files) {\n",
              "    return {\n",
              "      response: {\n",
              "        action: 'complete',\n",
              "      }\n",
              "    };\n",
              "  }\n",
              "\n",
              "  for (const file of files) {\n",
              "    const li = document.createElement('li');\n",
              "    li.append(span(file.name, {fontWeight: 'bold'}));\n",
              "    li.append(span(\n",
              "        `(${file.type || 'n/a'}) - ${file.size} bytes, ` +\n",
              "        `last modified: ${\n",
              "            file.lastModifiedDate ? file.lastModifiedDate.toLocaleDateString() :\n",
              "                                    'n/a'} - `));\n",
              "    const percent = span('0% done');\n",
              "    li.appendChild(percent);\n",
              "\n",
              "    outputElement.appendChild(li);\n",
              "\n",
              "    const fileDataPromise = new Promise((resolve) => {\n",
              "      const reader = new FileReader();\n",
              "      reader.onload = (e) => {\n",
              "        resolve(e.target.result);\n",
              "      };\n",
              "      reader.readAsArrayBuffer(file);\n",
              "    });\n",
              "    // Wait for the data to be ready.\n",
              "    let fileData = yield {\n",
              "      promise: fileDataPromise,\n",
              "      response: {\n",
              "        action: 'continue',\n",
              "      }\n",
              "    };\n",
              "\n",
              "    // Use a chunked sending to avoid message size limits. See b/62115660.\n",
              "    let position = 0;\n",
              "    do {\n",
              "      const length = Math.min(fileData.byteLength - position, MAX_PAYLOAD_SIZE);\n",
              "      const chunk = new Uint8Array(fileData, position, length);\n",
              "      position += length;\n",
              "\n",
              "      const base64 = btoa(String.fromCharCode.apply(null, chunk));\n",
              "      yield {\n",
              "        response: {\n",
              "          action: 'append',\n",
              "          file: file.name,\n",
              "          data: base64,\n",
              "        },\n",
              "      };\n",
              "\n",
              "      let percentDone = fileData.byteLength === 0 ?\n",
              "          100 :\n",
              "          Math.round((position / fileData.byteLength) * 100);\n",
              "      percent.textContent = `${percentDone}% done`;\n",
              "\n",
              "    } while (position < fileData.byteLength);\n",
              "  }\n",
              "\n",
              "  // All done.\n",
              "  yield {\n",
              "    response: {\n",
              "      action: 'complete',\n",
              "    }\n",
              "  };\n",
              "}\n",
              "\n",
              "scope.google = scope.google || {};\n",
              "scope.google.colab = scope.google.colab || {};\n",
              "scope.google.colab._files = {\n",
              "  _uploadFiles,\n",
              "  _uploadFilesContinue,\n",
              "};\n",
              "})(self);\n",
              "</script> "
            ]
          },
          "metadata": {}
        },
        {
          "output_type": "stream",
          "name": "stdout",
          "text": [
            "Saving faa_ai_prelim.csv to faa_ai_prelim.csv\n"
          ]
        }
      ],
      "source": [
        "from google.colab import files\n",
        "uploaded = files.upload()\n"
      ]
    },
    {
      "cell_type": "code",
      "source": [
        "import pandas as pd\n",
        "import numpy as np\n",
        "import matplotlib.pyplot as plt\n",
        "df = pd.read_csv('faa_ai_prelim.csv')\n",
        "\n",
        "# View initial information\n",
        "print(\"Initial Shape:\", df.shape)\n",
        "print(\"Columns:\\n\", df.columns)\n",
        "print(df.head())\n",
        "print(\"\\nMissing Values per Column:\\n\", df.isnull().sum())"
      ],
      "metadata": {
        "colab": {
          "base_uri": "https://localhost:8080/"
        },
        "id": "b1lFVuAN3e63",
        "outputId": "fc7daea9-bbf5-48b6-c751-2c6c30c4903d"
      },
      "execution_count": 9,
      "outputs": [
        {
          "output_type": "stream",
          "name": "stdout",
          "text": [
            "Initial Shape: (83, 42)\n",
            "Columns:\n",
            " Index(['UPDATED', 'ENTRY_DATE', 'EVENT_LCL_DATE', 'EVENT_LCL_TIME',\n",
            "       'LOC_CITY_NAME', 'LOC_STATE_NAME', 'LOC_CNTRY_NAME', 'RMK_TEXT',\n",
            "       'EVENT_TYPE_DESC', 'FSDO_DESC', 'REGIST_NBR', 'FLT_NBR', 'ACFT_OPRTR',\n",
            "       'ACFT_MAKE_NAME', 'ACFT_MODEL_NAME', 'ACFT_MISSING_FLAG',\n",
            "       'ACFT_DMG_DESC', 'FLT_ACTIVITY', 'FLT_PHASE', 'FAR_PART', 'MAX_INJ_LVL',\n",
            "       'FATAL_FLAG', 'FLT_CRW_INJ_NONE', 'FLT_CRW_INJ_MINOR',\n",
            "       'FLT_CRW_INJ_SERIOUS', 'FLT_CRW_INJ_FATAL', 'FLT_CRW_INJ_UNK',\n",
            "       'CBN_CRW_INJ_NONE', 'CBN_CRW_INJ_MINOR', 'CBN_CRW_INJ_SERIOUS',\n",
            "       'CBN_CRW_INJ_FATAL', 'CBN_CRW_INJ_UNK', 'PAX_INJ_NONE', 'PAX_INJ_MINOR',\n",
            "       'PAX_INJ_SERIOUS', 'PAX_INJ_FATAL', 'PAX_INJ_UNK', 'GRND_INJ_NONE',\n",
            "       'GRND_INJ_MINOR', 'GRND_INJ_SERIOUS', 'GRND_INJ_FATAL', 'GRND_INJ_UNK'],\n",
            "      dtype='object')\n",
            "  UPDATED ENTRY_DATE EVENT_LCL_DATE EVENT_LCL_TIME LOC_CITY_NAME  \\\n",
            "0      No  19-FEB-16      19-FEB-16      00:45:00Z    MARSHVILLE   \n",
            "1      No  19-FEB-16      18-FEB-16      23:55:00Z     TAVERNIER   \n",
            "2      No  19-FEB-16      18-FEB-16      22:14:00Z       TRENTON   \n",
            "3      No  19-FEB-16      18-FEB-16      17:10:00Z     ASHEVILLE   \n",
            "4      No  19-FEB-16      18-FEB-16      00:26:00Z     TALKEETNA   \n",
            "\n",
            "   LOC_STATE_NAME LOC_CNTRY_NAME  \\\n",
            "0  North Carolina            NaN   \n",
            "1         Florida            NaN   \n",
            "2      New Jersey            NaN   \n",
            "3  North Carolina            NaN   \n",
            "4          Alaska            NaN   \n",
            "\n",
            "                                            RMK_TEXT EVENT_TYPE_DESC  \\\n",
            "0  AIRCRAFT CRASHED INTO TREES, THE 1 PERSON ON B...        Accident   \n",
            "1  AIRCRAFT ON LANDING WENT OFF THE END OF THE RU...        Incident   \n",
            "2  AIRCRAFT ON FINAL SUSTAINED A BIRD STRIKE, LAN...        Incident   \n",
            "3  AIRCRAFT ON LANDING, GEAR COLLAPSED, ASHEVILLE...        Incident   \n",
            "4  AIRCRAFT ON LANDING, NOSE GEAR COLLAPSED, TALK...        Incident   \n",
            "\n",
            "                  FSDO_DESC  ... PAX_INJ_NONE PAX_INJ_MINOR PAX_INJ_SERIOUS  \\\n",
            "0     FAA Charlotte FSDO-68  ...          NaN           NaN             NaN   \n",
            "1         FAA Miami FSDO-19  ...          NaN           NaN             NaN   \n",
            "2  FAA Philadelphia FSDO-17  ...          NaN           NaN             NaN   \n",
            "3     FAA Charlotte FSDO-68  ...          NaN           NaN             NaN   \n",
            "4     FAA Anchorage FSDO-03  ...          NaN           1.0             NaN   \n",
            "\n",
            "  PAX_INJ_FATAL PAX_INJ_UNK  GRND_INJ_NONE GRND_INJ_MINOR GRND_INJ_SERIOUS  \\\n",
            "0           NaN         NaN            NaN            NaN              NaN   \n",
            "1           NaN         NaN            NaN            NaN              NaN   \n",
            "2           NaN         NaN            NaN            NaN              NaN   \n",
            "3           NaN         NaN            NaN            NaN              NaN   \n",
            "4           NaN         NaN            NaN            NaN              NaN   \n",
            "\n",
            "  GRND_INJ_FATAL  GRND_INJ_UNK  \n",
            "0            NaN           NaN  \n",
            "1            NaN           NaN  \n",
            "2            NaN           NaN  \n",
            "3            NaN           NaN  \n",
            "4            NaN           NaN  \n",
            "\n",
            "[5 rows x 42 columns]\n",
            "\n",
            "Missing Values per Column:\n",
            " UPDATED                 0\n",
            "ENTRY_DATE              0\n",
            "EVENT_LCL_DATE          0\n",
            "EVENT_LCL_TIME          0\n",
            "LOC_CITY_NAME           0\n",
            "LOC_STATE_NAME          0\n",
            "LOC_CNTRY_NAME         81\n",
            "RMK_TEXT                0\n",
            "EVENT_TYPE_DESC         0\n",
            "FSDO_DESC               2\n",
            "REGIST_NBR              0\n",
            "FLT_NBR                77\n",
            "ACFT_OPRTR             76\n",
            "ACFT_MAKE_NAME          5\n",
            "ACFT_MODEL_NAME         4\n",
            "ACFT_MISSING_FLAG      83\n",
            "ACFT_DMG_DESC           9\n",
            "FLT_ACTIVITY           70\n",
            "FLT_PHASE               1\n",
            "FAR_PART               82\n",
            "MAX_INJ_LVL            64\n",
            "FATAL_FLAG             75\n",
            "FLT_CRW_INJ_NONE       19\n",
            "FLT_CRW_INJ_MINOR      77\n",
            "FLT_CRW_INJ_SERIOUS    82\n",
            "FLT_CRW_INJ_FATAL      75\n",
            "FLT_CRW_INJ_UNK        83\n",
            "CBN_CRW_INJ_NONE       83\n",
            "CBN_CRW_INJ_MINOR      83\n",
            "CBN_CRW_INJ_SERIOUS    83\n",
            "CBN_CRW_INJ_FATAL      83\n",
            "CBN_CRW_INJ_UNK        82\n",
            "PAX_INJ_NONE           66\n",
            "PAX_INJ_MINOR          82\n",
            "PAX_INJ_SERIOUS        80\n",
            "PAX_INJ_FATAL          82\n",
            "PAX_INJ_UNK            83\n",
            "GRND_INJ_NONE          83\n",
            "GRND_INJ_MINOR         83\n",
            "GRND_INJ_SERIOUS       83\n",
            "GRND_INJ_FATAL         83\n",
            "GRND_INJ_UNK           82\n",
            "dtype: int64\n"
          ]
        }
      ]
    },
    {
      "cell_type": "code",
      "source": [
        "# combine date and time\n",
        "if 'EVENT_DATE' in df.columns and 'EVENT_TIME' in df.columns:\n",
        "    df['EVENT_DATETIME'] = pd.to_datetime(\n",
        "        df['EVENT_DATE'] + ' ' + df['EVENT_TIME'], errors='coerce'\n",
        "    )\n",
        "    print(\"New datetime column created:\", df['EVENT_DATETIME'].head())\n"
      ],
      "metadata": {
        "id": "-SQUM5mP3lVF"
      },
      "execution_count": 10,
      "outputs": []
    },
    {
      "cell_type": "code",
      "source": [
        "# select required columns\n",
        "required_cols = [\n",
        "    'ACFT_MAKE_NAME',   # Aircraft make\n",
        "    'LOC_STATE_NAME',   # State\n",
        "    'ACFT_MODEL_NAME',  # Aircraft model\n",
        "    'RMK_TEXT',         # Text info\n",
        "    'FLT_PHASE',        # Flight phase\n",
        "    'ACFT_DMG_DESC',    # Event type\n",
        "    'FATAL_FLAG'        # Fatal flag\n",
        "]\n",
        "\n",
        "df_req = df[required_cols].copy()\n",
        "print(\"Selected Columns Shape:\", df_req.shape)\n",
        "print(df_req.head())\n"
      ],
      "metadata": {
        "colab": {
          "base_uri": "https://localhost:8080/"
        },
        "id": "bx14Dmk_3n42",
        "outputId": "440428aa-82d6-4524-f855-4d2660829877"
      },
      "execution_count": 11,
      "outputs": [
        {
          "output_type": "stream",
          "name": "stdout",
          "text": [
            "Selected Columns Shape: (83, 7)\n",
            "  ACFT_MAKE_NAME  LOC_STATE_NAME ACFT_MODEL_NAME  \\\n",
            "0          BEECH  North Carolina              36   \n",
            "1           VANS         Florida             RV7   \n",
            "2         CESSNA      New Jersey             172   \n",
            "3        LANCAIR  North Carolina             235   \n",
            "4         CESSNA          Alaska             172   \n",
            "\n",
            "                                            RMK_TEXT       FLT_PHASE  \\\n",
            "0  AIRCRAFT CRASHED INTO TREES, THE 1 PERSON ON B...   UNKNOWN (UNK)   \n",
            "1  AIRCRAFT ON LANDING WENT OFF THE END OF THE RU...   LANDING (LDG)   \n",
            "2  AIRCRAFT ON FINAL SUSTAINED A BIRD STRIKE, LAN...  APPROACH (APR)   \n",
            "3  AIRCRAFT ON LANDING, GEAR COLLAPSED, ASHEVILLE...   LANDING (LDG)   \n",
            "4  AIRCRAFT ON LANDING, NOSE GEAR COLLAPSED, TALK...   LANDING (LDG)   \n",
            "\n",
            "  ACFT_DMG_DESC FATAL_FLAG  \n",
            "0       Unknown        Yes  \n",
            "1       Unknown        NaN  \n",
            "2         Minor        NaN  \n",
            "3       Unknown        NaN  \n",
            "4         Minor        NaN  \n"
          ]
        }
      ]
    },
    {
      "cell_type": "code",
      "source": [
        "# handling missing values\n",
        "\n",
        "# replace fatal flag missing values with 'No'\n",
        "df_req['FATAL_FLAG'] = df_req['FATAL_FLAG'].fillna('No')\n",
        "\n",
        "# replace FLT_PHASE & ACFT_DMG_DESC missing with mode\n",
        "for col in ['FLT_PHASE', 'ACFT_DMG_DESC']:\n",
        "    mode_val = df_req[col].mode()[0]\n",
        "    df_req[col] = df_req[col].fillna(mode_val)\n",
        "\n",
        "print(\"Missing values after handling:\\n\", df_req.isnull().sum())\n"
      ],
      "metadata": {
        "colab": {
          "base_uri": "https://localhost:8080/"
        },
        "id": "1LNDPpd03qfN",
        "outputId": "36124615-865b-456a-e7ed-3d230138c23a"
      },
      "execution_count": 12,
      "outputs": [
        {
          "output_type": "stream",
          "name": "stdout",
          "text": [
            "Missing values after handling:\n",
            " ACFT_MAKE_NAME     5\n",
            "LOC_STATE_NAME     0\n",
            "ACFT_MODEL_NAME    4\n",
            "RMK_TEXT           0\n",
            "FLT_PHASE          0\n",
            "ACFT_DMG_DESC      0\n",
            "FATAL_FLAG         0\n",
            "dtype: int64\n"
          ]
        }
      ]
    },
    {
      "cell_type": "code",
      "source": [
        "# drop unwanted data\n",
        "\n",
        "# Drop rows where Aircraft Make is missing\n",
        "before_rows = df_req.shape[0]\n",
        "df_req = df_req.dropna(subset=['ACFT_MAKE_NAME'])\n",
        "after_rows = df_req.shape[0]\n",
        "print(f\"Dropped {before_rows - after_rows} rows due to missing aircraft make.\")\n",
        "\n",
        "# Drop columns with >75% missing values\n",
        "thresh = 0.25 * df_req.shape[0]  # At least 25% non-null\n",
        "df_req = df_req.dropna(axis=1, thresh=thresh)\n",
        "\n",
        "print(\"Shape after cleaning:\", df_req.shape)\n",
        "print(\"Remaining Columns:\", df_req.columns.tolist())\n"
      ],
      "metadata": {
        "colab": {
          "base_uri": "https://localhost:8080/"
        },
        "id": "NlckUZuK3tRo",
        "outputId": "c17262ee-32bd-4ce3-d901-731cc2df4193"
      },
      "execution_count": 13,
      "outputs": [
        {
          "output_type": "stream",
          "name": "stdout",
          "text": [
            "Dropped 5 rows due to missing aircraft make.\n",
            "Shape after cleaning: (78, 7)\n",
            "Remaining Columns: ['ACFT_MAKE_NAME', 'LOC_STATE_NAME', 'ACFT_MODEL_NAME', 'RMK_TEXT', 'FLT_PHASE', 'ACFT_DMG_DESC', 'FATAL_FLAG']\n"
          ]
        }
      ]
    },
    {
      "cell_type": "code",
      "source": [
        "# observation analysis\n",
        "\n",
        "# Group by aircraft make\n",
        "group_counts = df_req.groupby('ACFT_MAKE_NAME').size().reset_index(name='Count')\n",
        "print(\"\\nAircraft make occurrence counts:\\n\", group_counts)\n",
        "\n",
        "# Display observations with Fatal Flag = Yes\n",
        "fatal_cases = df_req[df_req['FATAL_FLAG'].str.upper() == 'YES']\n",
        "print(\"\\nFatal cases:\\n\", fatal_cases)\n"
      ],
      "metadata": {
        "colab": {
          "base_uri": "https://localhost:8080/"
        },
        "id": "yko--qGj3wYV",
        "outputId": "926099f0-45b8-402c-843c-0392b08770c8"
      },
      "execution_count": 14,
      "outputs": [
        {
          "output_type": "stream",
          "name": "stdout",
          "text": [
            "\n",
            "Aircraft make occurrence counts:\n",
            "             ACFT_MAKE_NAME  Count\n",
            "0           AERO COMMANDER      1\n",
            "1                  AERONCA      1\n",
            "2   AEROSTAR INTERNATIONAL      1\n",
            "3                   AIRBUS      1\n",
            "4                    BEECH      9\n",
            "5                     BELL      2\n",
            "6                   BOEING      3\n",
            "7                   CESSNA     23\n",
            "8                 CHAMPION      2\n",
            "9                 CHRISTEN      1\n",
            "10     CONSOLIDATED VULTEE      1\n",
            "11                 EMBRAER      1\n",
            "12                 ENSTROM      1\n",
            "13               FAIRCHILD      1\n",
            "14           FLIGHT DESIGN      1\n",
            "15                   GLOBE      1\n",
            "16             GREAT LAKES      1\n",
            "17                 GRUMMAN      1\n",
            "18              GULFSTREAM      1\n",
            "19                  HUGHES      1\n",
            "20                 LANCAIR      2\n",
            "21                   MAULE      1\n",
            "22                  MOONEY      4\n",
            "23          NORTH AMERICAN      1\n",
            "24                   PIPER     10\n",
            "25                   PITTS      1\n",
            "26                    SAAB      1\n",
            "27              SABRELINER      1\n",
            "28                  SOCATA      2\n",
            "29                    VANS      1\n",
            "\n",
            "Fatal cases:\n",
            "     ACFT_MAKE_NAME  LOC_STATE_NAME ACFT_MODEL_NAME  \\\n",
            "0            BEECH  North Carolina              36   \n",
            "53           PIPER         Florida            PA28   \n",
            "55   FLIGHT DESIGN      California            CTLS   \n",
            "79  NORTH AMERICAN         Arizona             F51   \n",
            "80        CHAMPION      California           8KCAB   \n",
            "81           BEECH      California              35   \n",
            "82          CESSNA         Alabama             182   \n",
            "\n",
            "                                             RMK_TEXT      FLT_PHASE  \\\n",
            "0   AIRCRAFT CRASHED INTO TREES, THE 1 PERSON ON B...  UNKNOWN (UNK)   \n",
            "53  AIRCRAFT CRASHED UNDER UNKNOWN CIRCUMSTANCES. ...  UNKNOWN (UNK)   \n",
            "55  AIRCRAFT CRASHED UNDER UNKNOWN CIRCUMSTANCES A...  UNKNOWN (UNK)   \n",
            "79  AIRCRAFT CRASHED UNDER UNKNOWN CIRCUMSTANCES, ...  UNKNOWN (UNK)   \n",
            "80  N9872R, BEECH M35 AIRCRAFT, AND N5057G, BELLAN...  UNKNOWN (UNK)   \n",
            "81  N9872R, BEECH M35 AIRCRAFT, AND N5057G, BELLAN...  UNKNOWN (UNK)   \n",
            "82  N784CP AIRCRAFT CRASHED INTO A WOODED AREA NEA...  UNKNOWN (UNK)   \n",
            "\n",
            "   ACFT_DMG_DESC FATAL_FLAG  \n",
            "0        Unknown        Yes  \n",
            "53     Destroyed        Yes  \n",
            "55     Destroyed        Yes  \n",
            "79     Destroyed        Yes  \n",
            "80     Destroyed        Yes  \n",
            "81     Destroyed        Yes  \n",
            "82       Unknown        Yes  \n"
          ]
        }
      ]
    },
    {
      "cell_type": "code",
      "source": [
        "# manual one-hot encoding\n",
        "\n",
        "unique_dmg = df_req['ACFT_DMG_DESC'].unique()\n",
        "for category in unique_dmg[:-1]:  # drop last to avoid multicollinearity\n",
        "    df_req[f'DMG_{category}'] = (df_req['ACFT_DMG_DESC'] == category).astype(int)\n",
        "\n",
        "print(\"DataFrame with One-Hot columns:\\n\", df_req.head())\n"
      ],
      "metadata": {
        "colab": {
          "base_uri": "https://localhost:8080/"
        },
        "id": "FH2eV_KN3zha",
        "outputId": "d90430f9-736a-41c4-b23b-c265050be9a4"
      },
      "execution_count": 15,
      "outputs": [
        {
          "output_type": "stream",
          "name": "stdout",
          "text": [
            "DataFrame with One-Hot columns:\n",
            "   ACFT_MAKE_NAME  LOC_STATE_NAME ACFT_MODEL_NAME  \\\n",
            "0          BEECH  North Carolina              36   \n",
            "1           VANS         Florida             RV7   \n",
            "2         CESSNA      New Jersey             172   \n",
            "3        LANCAIR  North Carolina             235   \n",
            "4         CESSNA          Alaska             172   \n",
            "\n",
            "                                            RMK_TEXT       FLT_PHASE  \\\n",
            "0  AIRCRAFT CRASHED INTO TREES, THE 1 PERSON ON B...   UNKNOWN (UNK)   \n",
            "1  AIRCRAFT ON LANDING WENT OFF THE END OF THE RU...   LANDING (LDG)   \n",
            "2  AIRCRAFT ON FINAL SUSTAINED A BIRD STRIKE, LAN...  APPROACH (APR)   \n",
            "3  AIRCRAFT ON LANDING, GEAR COLLAPSED, ASHEVILLE...   LANDING (LDG)   \n",
            "4  AIRCRAFT ON LANDING, NOSE GEAR COLLAPSED, TALK...   LANDING (LDG)   \n",
            "\n",
            "  ACFT_DMG_DESC FATAL_FLAG  DMG_Unknown  DMG_Minor  DMG_Substantial  \n",
            "0       Unknown        Yes            1          0                0  \n",
            "1       Unknown         No            1          0                0  \n",
            "2         Minor         No            0          1                0  \n",
            "3       Unknown         No            1          0                0  \n",
            "4         Minor         No            0          1                0  \n"
          ]
        }
      ]
    },
    {
      "cell_type": "code",
      "source": [
        "# feature engineering from text\n",
        "\n",
        "keywords = ['LANDING', 'TAKEOFF', 'CRUISE', 'APPROACH']\n",
        "\n",
        "def infer_flight_phase(text):\n",
        "    if pd.isna(text):\n",
        "        return 'UNKNOWN'\n",
        "    text = text.upper()\n",
        "    for kw in keywords:\n",
        "        if kw in text:\n",
        "            return kw\n",
        "    return 'UNKNOWN'\n",
        "\n",
        "df_req['FLIGHT_PHASE_TEXT'] = df_req['RMK_TEXT'].apply(infer_flight_phase)\n",
        "\n",
        "# Compare inferred vs original flight phase\n",
        "comparison = pd.crosstab(df_req['FLT_PHASE'], df_req['FLIGHT_PHASE_TEXT'])\n",
        "print(\"\\nComparison of FLT_PHASE vs Inferred from Text:\\n\", comparison)\n",
        "\n",
        "print(\"\\nFinal Preprocessed Dataset Shape:\", df_req.shape)\n"
      ],
      "metadata": {
        "colab": {
          "base_uri": "https://localhost:8080/"
        },
        "id": "yQkobVwC319k",
        "outputId": "11d47409-6fa0-495e-b23d-9324eab49d28"
      },
      "execution_count": 16,
      "outputs": [
        {
          "output_type": "stream",
          "name": "stdout",
          "text": [
            "\n",
            "Comparison of FLT_PHASE vs Inferred from Text:\n",
            " FLIGHT_PHASE_TEXT  APPROACH  LANDING  TAKEOFF  UNKNOWN\n",
            "FLT_PHASE                                             \n",
            "APPROACH (APR)            1        0        0        1\n",
            "LANDING (LDG)             0       32        0       12\n",
            "STANDING (STD)            0        0        0        3\n",
            "TAKEOFF (TOF)             0        0        4        2\n",
            "TAXI (TXI)                0        1        0        9\n",
            "UNKNOWN (UNK)             0        0        0       13\n",
            "\n",
            "Final Preprocessed Dataset Shape: (78, 11)\n"
          ]
        }
      ]
    },
    {
      "cell_type": "code",
      "source": [
        "# saving final cleaned dataset\n",
        "output_file = \"Aviation_Preprocessed.csv\"\n",
        "df_req.to_csv(output_file, index=False)\n",
        "print(f\"Final preprocessed dataset saved as {output_file}\")\n"
      ],
      "metadata": {
        "colab": {
          "base_uri": "https://localhost:8080/"
        },
        "id": "arCSyNKl34XU",
        "outputId": "48881a3d-40da-4ee8-a922-69f42189f610"
      },
      "execution_count": 17,
      "outputs": [
        {
          "output_type": "stream",
          "name": "stdout",
          "text": [
            "Final preprocessed dataset saved as Aviation_Preprocessed.csv\n"
          ]
        }
      ]
    },
    {
      "cell_type": "code",
      "source": [
        "#Visualizations\n",
        "import matplotlib.pyplot as plt\n",
        "import seaborn as sns\n",
        "\n",
        "#1.Top 10 most frequent aircraft makes\n",
        "plt.figure(figsize=(10,5))\n",
        "top_aircraft = df_req['ACFT_MAKE_NAME'].value_counts().head(10)\n",
        "sns.barplot(x=top_aircraft.index, y=top_aircraft.values, palette='viridis', hue=None, legend=False)\n",
        "plt.xticks(rotation=45)\n",
        "plt.title('Top 10 Aircraft Makes by Occurrence')\n",
        "plt.xlabel('Aircraft Make')\n",
        "plt.ylabel('Count')\n",
        "plt.show()\n",
        "\n",
        "#2.Fatal Cases per Aircraft Make (Top 10)\n",
        "plt.figure(figsize=(10,5))\n",
        "fatal_counts = df_req[df_req['FATAL_FLAG'].str.upper() == 'YES']['ACFT_MAKE_NAME'].value_counts().head(10)\n",
        "sns.barplot(x=fatal_counts.index, y=fatal_counts.values, palette='Reds', hue = None, legend= False)\n",
        "plt.xticks(rotation=45)\n",
        "plt.title('Top 10 Aircraft Makes with Fatal Cases')\n",
        "plt.xlabel('Aircraft Make')\n",
        "plt.ylabel('Fatal Cases')\n",
        "plt.show()\n"
      ],
      "metadata": {
        "colab": {
          "base_uri": "https://localhost:8080/",
          "height": 1000
        },
        "id": "mhBEym_S36oF",
        "outputId": "10197ad0-c585-4ab2-c1f0-6a4a2d1d6f8d"
      },
      "execution_count": 18,
      "outputs": [
        {
          "output_type": "stream",
          "name": "stderr",
          "text": [
            "/tmp/ipython-input-1905770389.py:8: FutureWarning: \n",
            "\n",
            "Passing `palette` without assigning `hue` is deprecated and will be removed in v0.14.0. Assign the `x` variable to `hue` and set `legend=False` for the same effect.\n",
            "\n",
            "  sns.barplot(x=top_aircraft.index, y=top_aircraft.values, palette='viridis', hue=None, legend=False)\n"
          ]
        },
        {
          "output_type": "display_data",
          "data": {
            "text/plain": [
              "<Figure size 1000x500 with 1 Axes>"
            ],
            "image/png": "[encoded data removed]"
          },
          "metadata": {}
        },
        {
          "output_type": "stream",
          "name": "stderr",
          "text": [
            "/tmp/ipython-input-1905770389.py:18: FutureWarning: \n",
            "\n",
            "Passing `palette` without assigning `hue` is deprecated and will be removed in v0.14.0. Assign the `x` variable to `hue` and set `legend=False` for the same effect.\n",
            "\n",
            "  sns.barplot(x=fatal_counts.index, y=fatal_counts.values, palette='Reds', hue = None, legend= False)\n"
          ]
        },
        {
          "output_type": "display_data",
          "data": {
            "text/plain": [
              "<Figure size 1000x500 with 1 Axes>"
            ],
            "image/png": "[encoded data removed]"
          },
          "metadata": {}
        }
      ]
    }
  ]
}